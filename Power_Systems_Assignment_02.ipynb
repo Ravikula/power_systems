{
  "nbformat": 4,
  "nbformat_minor": 0,
  "metadata": {
    "colab": {
      "provenance": [],
      "authorship_tag": "ABX9TyOtD+/R5AR21oAvIc54SUsl",
      "include_colab_link": true
    },
    "kernelspec": {
      "name": "python3",
      "display_name": "Python 3"
    },
    "language_info": {
      "name": "python"
    }
  },
  "cells": [
    {
      "cell_type": "markdown",
      "metadata": {
        "id": "view-in-github",
        "colab_type": "text"
      },
      "source": [
        "<a href=\"https://colab.research.google.com/github/Ravikula/power_systems/blob/main/Power_Systems_Assignment_02.ipynb\" target=\"_parent\"><img src=\"https://colab.research.google.com/assets/colab-badge.svg\" alt=\"Open In Colab\"/></a>"
      ]
    },
    {
      "cell_type": "code",
      "source": [
        "import cmath\n",
        "import math\n",
        "import numpy as np\n"
      ],
      "metadata": {
        "id": "pGw3oy1keINI"
      },
      "execution_count": 111,
      "outputs": []
    },
    {
      "cell_type": "code",
      "execution_count": 112,
      "metadata": {
        "id": "xXNM2deuGnXL"
      },
      "outputs": [],
      "source": [
        "#Data\n",
        "\n",
        "pg = 100        #MVA    Generator rated power\n",
        "pm = 100        #MVA    Motor rated power\n",
        "vg = 13.8       #kV     Generator rated voltage\n",
        "vm = 13.8       #kV     Motor rated voltage\n",
        "\n",
        "vp_tf12 = 13.8  #kV     Transformer 1,2 primary voltage\n",
        "vs_ft12 = 132   #kV     Transformer 1,2 secondary voltage\n",
        "\n",
        "vp_tf3 = 13.8   #kV     Transformer 3 primary voltage\n",
        "vs_ft3 = 132    #kV     Transformer 3 secondary voltage\n",
        "\n",
        "xgg = 0.04j      #pu     Generator 1,2 Grounding impedance\n",
        "xgm = 0.05j      #pu     Motor grounding impedance\n",
        "\n",
        "\n",
        "#POSITIVE SEQUENCE\n",
        "\n",
        "pos_seq = {\"xg\" : 0.145j,   #0 - generator positive sequance reactance\n",
        "           \"xm\" : 0.244j,   #1 - motor positive sequance reactance\n",
        "           \"xt\" : 0.162j,   #2 - Transmission line positive sequance reactance\n",
        "           \"xtf12\" :0.084j, #3 - Transformer 1,2 positive sequance reactance\n",
        "           \"xtf3\":0.084j}   #4 - transformer 3 positive sequance reactance\n",
        "\n",
        "#NEGATIVE SEQUENCE\n",
        "\n",
        "neg_seq = {\"xg\" : 0.107j,   #0 - generator negative sequance reactance\n",
        "           \"xm\" : 0.276j,   #1 - motor negative sequance reactance\n",
        "           \"xt\" : 0.162j,   #2 - Transmission line negative sequance reactance\n",
        "           \"xtf12\": 0.084j, #3 - Transformer 1,2 negative sequance reactance\n",
        "           \"xtf3\":0.084j}   #4 - transformer 3 negative sequance reactance\n",
        "\n",
        "\n",
        "#ZERO SEQUANCE\n",
        "\n",
        "zero_seq = {\"xg\" : 0.040j,  #0 - generator negative sequance reactance\n",
        "           \"xm\" : 0.122j,   #1 - motor negative sequance reactance\n",
        "           \"xt\" : 0.453j,   #2 - Transmission line negative sequance reactance\n",
        "           \"xtf12\": 0.084j, #3 - Transformer 1,2 negative sequance reactance\n",
        "           \"xtf3\":0.084j}    #4 - transformer 3 negative sequance reactance\n",
        "\n",
        "a = cmath.rect(1, math.radians(120))\n",
        "a2 = cmath.rect(1, math.radians(240))\n",
        "\n",
        "#TRANSFORMATION MATRIX\n",
        "T = np.array([[1, 1, 1],\n",
        "              [1, a2, a],\n",
        "              [1, a, a2]])\n",
        "\n",
        "#INVERSE TRANSFORMATION MATRIX\n",
        "T_1 = np.array([[1, 1, 1],\n",
        "                [1, a, a2],\n",
        "                [1, a2, a]])\n",
        "\n",
        "d = 10    #No of decimal places"
      ]
    },
    {
      "cell_type": "code",
      "source": [
        "#Function to calculate parallel impedance\n",
        "\n",
        "def z_p(a,b):\n",
        "  c = 1/((1/a)+(1/b))\n",
        "  return c"
      ],
      "metadata": {
        "id": "I0q1R3ZyWtEs"
      },
      "execution_count": 113,
      "outputs": []
    },
    {
      "cell_type": "code",
      "source": [
        "#PART 1\n",
        "\n",
        "#POSITIVE SEQUENCE\n",
        "\n",
        "xp1 = pos_seq[\"xm\"]+pos_seq[\"xtf3\"]+pos_seq[\"xt\"]\n",
        "xp2 = z_p(pos_seq[\"xtf12\"]+pos_seq[\"xg\"],pos_seq[\"xtf12\"]+pos_seq[\"xg\"])\n",
        "Z_th_pos = z_p(xp1, xp2)\n",
        "\n",
        "print(\"Z_th_pos: \"+str(round(abs(Z_th_pos),d)) + \" (pu)  \" + str(math.degrees(cmath.phase(Z_th_pos)))+\" (degrees)\")\n",
        "\n",
        "\n",
        "#NEGATIVE SEQUENCE\n",
        "\n",
        "xn1 = neg_seq[\"xm\"]+neg_seq[\"xtf3\"]+neg_seq[\"xt\"]\n",
        "xn2 = z_p(neg_seq[\"xtf12\"]+neg_seq[\"xg\"],neg_seq[\"xtf12\"]+neg_seq[\"xg\"])\n",
        "Z_th_neg = z_p(xn1, xn2)\n",
        "\n",
        "print(\"Z_th_neg: \"+str(round(abs(Z_th_neg),d)) + \" (pu)  \" + str(math.degrees(cmath.phase(Z_th_neg)))+\" (degrees)\")\n",
        "\n",
        "\n",
        "#ZERO SEQUENCE\n",
        "\n",
        "Z_th_zero = zero_seq[\"xtf12\"]+zero_seq[\"xg\"]+xgg*3\n",
        "print(\"Z_th_zero: \"+str(round(abs(Z_th_zero),d)) + \" (pu)  \" + str(math.degrees(cmath.phase(Z_th_zero)))+\" (degrees)\")\n",
        "\n"
      ],
      "metadata": {
        "colab": {
          "base_uri": "https://localhost:8080/"
        },
        "id": "GdkO2LcpJ6kh",
        "outputId": "05aab6c8-f53e-4bd6-fb7b-873a3c774428"
      },
      "execution_count": 114,
      "outputs": [
        {
          "output_type": "stream",
          "name": "stdout",
          "text": [
            "Z_th_pos: 0.0928122415 (pu)  90.0 (degrees)\n",
            "Z_th_neg: 0.0807303644 (pu)  90.0 (degrees)\n",
            "Z_th_zero: 0.244 (pu)  90.0 (degrees)\n"
          ]
        }
      ]
    },
    {
      "cell_type": "code",
      "source": [
        "#PART 2\n",
        "\n",
        "# For balanced faults, only the positive sequance is considered.\n",
        "vf_pre = 1.02 +0j\n",
        "\n",
        "I0_2 = 0\n",
        "Ip_2 = vf_pre/Z_th_pos\n",
        "In_2 = 0\n",
        "\n",
        "#Sequence currents\n",
        "I_seq_2 = np.array([[I0_2],\n",
        "                  [Ip_2],\n",
        "                  [In_2]])\n",
        "\n",
        "#Fault currents\n",
        "If_ph_2 = np.dot(T, I_seq_2)\n",
        "\n",
        "print(\"Ia = : \" +str(round(np.abs(If_ph_2[0,0]),d)) + \" (pu) \" +str(round(np.angle(If_ph_2[0,0], deg=True),d)) + \" (degree)\")\n",
        "print(\"Ib = : \" +str(round(np.abs(If_ph_2[1,0]),d)) + \" (pu) \" +str(round(np.angle(If_ph_2[1,0], deg=True),d)) + \" (degree)\")\n",
        "print(\"Ic = : \" +str(round(np.abs(If_ph_2[2,0]),d)) + \" (pu) \" +str(round(np.angle(If_ph_2[2,0], deg=True),d)) + \" (degree)\")\n"
      ],
      "metadata": {
        "colab": {
          "base_uri": "https://localhost:8080/"
        },
        "id": "LGelkBEtlCl0",
        "outputId": "9674ca5d-617b-4f33-98bd-dc1af0e17502"
      },
      "execution_count": 115,
      "outputs": [
        {
          "output_type": "stream",
          "name": "stdout",
          "text": [
            "Ia = : 10.9899295963 (pu) -90.0 (degree)\n",
            "Ib = : 10.9899295963 (pu) 150.0 (degree)\n",
            "Ic = : 10.9899295963 (pu) 30.0 (degree)\n"
          ]
        }
      ]
    },
    {
      "cell_type": "code",
      "source": [
        "\n",
        "#PART 3\n",
        "\n",
        "#Assume fault occur between phase A and Ground. Therefore, current flows only in phase A. Therefore, Ib=0 and Ic =0\n",
        "\n",
        "Ip_3 = vf_pre/(Z_th_pos+Z_th_neg+Z_th_zero)\n",
        "In_3 = Ip_3\n",
        "I0_3 = Ip_3\n",
        "\n",
        "Ia = Ip_3 + In_3 + I0_3\n",
        "Ib =0\n",
        "Ic =0\n",
        "\n",
        "print(\"Ia = : \" +str(round(abs(Ia),d)) + \"  (pu)  \" +str(round(np.angle(Ia, deg=True),d))+ \" (degree)\")\n",
        "print(\"Ib = : \" +str(abs(Ib)) + \"  (pu)  \" +str(np.angle(Ib, deg=True))+ \" (degree)\")\n",
        "print(\"Ic = : \" +str(abs(Ic)) + \"  (pu)  \" +str(np.angle(Ic, deg=True))+ \" (degree)\")\n"
      ],
      "metadata": {
        "colab": {
          "base_uri": "https://localhost:8080/"
        },
        "id": "P3kb7QyRDB9_",
        "outputId": "969fc6a2-aa5b-4a09-d3f9-d0ccb40551be"
      },
      "execution_count": 116,
      "outputs": [
        {
          "output_type": "stream",
          "name": "stdout",
          "text": [
            "Ia = : 7.3285934341  (pu)  -90.0 (degree)\n",
            "Ib = : 0  (pu)  0.0 (degree)\n",
            "Ic = : 0  (pu)  0.0 (degree)\n"
          ]
        }
      ]
    },
    {
      "cell_type": "code",
      "source": [
        "#PART 4\n",
        "\n",
        "Ip_4 = vf_pre/(Z_th_pos+Z_th_neg)\n",
        "\n",
        "In_4 = -Ip_4\n",
        "I0_4 = 0\n",
        "\n",
        "I_seq_4 = np.array([[I0_4],\n",
        "                    [Ip_4],\n",
        "                    [In_4]])\n",
        "\n",
        "If_ph_4 = np.dot(T, I_seq_4)\n",
        "\n",
        "print(\"Ia = : \" +str(round(np.abs(If_ph_4[0,0]),d)) + \" (pu) \" +str(round(np.angle(If_ph_4[0,0], deg=True),d)) + \" (degree)\")\n",
        "print(\"Ib = : \" +str(round(np.abs(If_ph_4[1,0]),d)) + \" (pu) \" +str(round(np.angle(If_ph_4[1,0], deg=True),d)) + \" (degree)\")\n",
        "print(\"Ic = : \" +str(round(np.abs(If_ph_4[2,0]),d)) + \" (pu) \" +str(round(np.angle(If_ph_4[2,0], deg=True),d)) + \" (degree)\")\n"
      ],
      "metadata": {
        "colab": {
          "base_uri": "https://localhost:8080/"
        },
        "id": "aq19rubZbQik",
        "outputId": "bf1987a3-9267-4f0c-cdb9-835f79c1fb0f"
      },
      "execution_count": 117,
      "outputs": [
        {
          "output_type": "stream",
          "name": "stdout",
          "text": [
            "Ia = : 0.0 (pu) 0.0 (degree)\n",
            "Ib = : 10.1801618952 (pu) 180.0 (degree)\n",
            "Ic = : 10.1801618952 (pu) -0.0 (degree)\n"
          ]
        }
      ]
    },
    {
      "cell_type": "code",
      "source": [
        "#PART 5\n",
        "\n",
        "#Assume fault is between phase B and C and ground. Then VB = VC = 0, IA = 0 and IB+IC = IF, Vp = Vn = V0\n",
        "\n",
        "Ip_5 = vf_pre/(Z_th_pos + z_p(Z_th_neg,Z_th_zero))\n",
        "Vp = z_p(Z_th_neg,Z_th_zero)*Ip_5\n",
        "\n",
        "In_5 = -(Vp/Z_th_neg)\n",
        "I0_5 = -(Vp/Z_th_zero)\n",
        "\n",
        "I_seq_5 = np.array([[I0_5],\n",
        "                    [Ip_5],\n",
        "                    [In_5]])\n",
        "If_ph_5 = np.dot(T, I_seq_5)\n",
        "\n",
        "\n",
        "print(\"Ia = : \" +str(round(np.abs(If_ph_5[0,0]),d)) + \" (pu) \" +str(round(np.angle(If_ph_5[0,0], deg=True),d)) + \" (degree)\")\n",
        "print(\"Ib = : \" +str(round(np.abs(If_ph_5[1,0]),d)) + \" (pu) \" +str(round(np.angle(If_ph_5[1,0], deg=True),d)) + \" (degree)\")\n",
        "print(\"Ic = : \" +str(round(np.abs(If_ph_5[2,0]),d)) + \" (pu) \" +str(round(np.angle(If_ph_5[2,0], deg=True),d)) + \" (degree)\")\n",
        "\n",
        "print(z_p(Z_th_neg,Z_th_zero))\n"
      ],
      "metadata": {
        "colab": {
          "base_uri": "https://localhost:8080/"
        },
        "id": "ho3xoV8YWbwd",
        "outputId": "53929391-3685-44a1-80c1-d2da47c04ebe"
      },
      "execution_count": 118,
      "outputs": [
        {
          "output_type": "stream",
          "name": "stdout",
          "text": [
            "Ia = : 0.0 (pu) 0.0 (degree)\n",
            "Ib = : 10.3807471851 (pu) 166.1871250879 (degree)\n",
            "Ic = : 10.3807471851 (pu) 13.8128749121 (degree)\n",
            "(-0+0.06066020017853492j)\n"
          ]
        }
      ]
    },
    {
      "cell_type": "code",
      "source": [
        "#PART 6\n",
        "\n",
        "VF = np.array([[0],[vf_pre],[0]])\n",
        "\n",
        "Z = np.array([[Z_th_zero, 0, 0],\n",
        "              [0, Z_th_pos, 0],\n",
        "              [0, 0, Z_th_neg]])\n",
        "\n",
        "I_seq_6 = np.array([[I0_3],[Ip_3],[In_3]])\n",
        "\n",
        "v_seq_6 = VF - np.dot(Z,I_seq_6)\n",
        "\n",
        "Vf_ph_l_g2 = np.dot(T,v_seq_6)\n",
        "\n",
        "\n",
        "print(\"Va = : \" +str(round(np.abs(Vf_ph_l_g2[0,0]),d)) + \" (pu) \" +str(round(np.angle(Vf_ph_l_g2[0,0], deg=True),d)) + \" (degree)\")\n",
        "print(\"Vb = : \" +str(round(np.abs(Vf_ph_l_g2[1,0]),d)) + \" (pu) \" +str(round(np.angle(Vf_ph_l_g2[1,0], deg=True),d)) + \" (degree)\")\n",
        "print(\"Vc = : \" +str(round(np.abs(Vf_ph_l_g2[2,0]),d)) + \" (pu) \" +str(round(np.angle(Vf_ph_l_g2[2,0], deg=True),d)) + \" (degree)\")\n"
      ],
      "metadata": {
        "colab": {
          "base_uri": "https://localhost:8080/"
        },
        "id": "SubPVL2h-OMP",
        "outputId": "3741e4de-cc47-4b21-d424-0a0f66e79034"
      },
      "execution_count": 119,
      "outputs": [
        {
          "output_type": "stream",
          "name": "stdout",
          "text": [
            "Va = : 0.0 (pu) 180.0 (degree)\n",
            "Vb = : 1.2390279961 (pu) -136.1871250879 (degree)\n",
            "Vc = : 1.2390279961 (pu) 136.1871250879 (degree)\n"
          ]
        }
      ]
    },
    {
      "cell_type": "code",
      "source": [
        "#PART 7\n",
        "Z = np.array([[Z_th_zero, 0, 0],\n",
        "              [0, Z_th_pos, 0],\n",
        "              [0, 0, Z_th_neg]])\n",
        "\n",
        "I_seq_7 = np.array([[I0_4],[Ip_4],[In_4]])\n",
        "\n",
        "v_seq_7 = VF - np.dot(Z,I_seq_7)\n",
        "\n",
        "Vf_ph_l_l = np.dot(T,v_seq_7)\n",
        "\n",
        "print(\"Va = : \" +str(round(np.abs(Vf_ph_l_l[0,0]),d)) + \" (pu) \" +str(round(np.angle(Vf_ph_l_l[0,0], deg=True),d)) + \" (degree)\")\n",
        "print(\"Vb = : \" +str(round(np.abs(Vf_ph_l_l[1,0]),d)) + \" (pu) \" +str(round(np.angle(Vf_ph_l_l[1,0], deg=True),d)) + \" (degree)\")\n",
        "print(\"Vc = : \" +str(round(np.abs(Vf_ph_l_l[2,0]),d)) + \" (pu) \" +str(round(np.angle(Vf_ph_l_l[2,0], deg=True),d)) + \" (degree)\")"
      ],
      "metadata": {
        "colab": {
          "base_uri": "https://localhost:8080/"
        },
        "id": "sCuU8bBcALIz",
        "outputId": "689d05dd-45c1-4498-9599-e495f027380e"
      },
      "execution_count": 120,
      "outputs": [
        {
          "output_type": "stream",
          "name": "stdout",
          "text": [
            "Va = : 0.948988535 (pu) 0.0 (degree)\n",
            "Vb = : 0.4744942675 (pu) 180.0 (degree)\n",
            "Vc = : 0.4744942675 (pu) 180.0 (degree)\n"
          ]
        }
      ]
    },
    {
      "cell_type": "code",
      "source": [
        "#PART 8\n",
        "Z = np.array([[Z_th_zero, 0, 0],\n",
        "              [0, Z_th_pos, 0],\n",
        "              [0, 0, Z_th_neg]])\n",
        "\n",
        "I_seq_8 = np.array([[I0_5],[Ip_5],[In_5]])\n",
        "\n",
        "v_seq_8 = VF - np.dot(Z,I_seq_8)\n",
        "\n",
        "Vf_ph_l_l_g = np.dot(T,v_seq_8)\n",
        "\n",
        "print(\"Va = : \" +str(round(np.abs(Vf_ph_l_l_g[0,0]),d)) + \" (pu) \" +str(round(np.angle(Vf_ph_l_l_g[0,0], deg=True),d)) + \" (degree)\")\n",
        "print(\"Vb = : \" +str(round(np.abs(Vf_ph_l_l_g[1,0]),d)) + \" (pu) \" +str(round(np.angle(Vf_ph_l_l_g[1,0], deg=True),d)) + \" (degree)\")\n",
        "print(\"Vc = : \" +str(round(np.abs(Vf_ph_l_l_g[2,0]),d)) + \" (pu) \" +str(round(np.angle(Vf_ph_l_l_g[2,0], deg=True),d)) + \" (degree)\")"
      ],
      "metadata": {
        "colab": {
          "base_uri": "https://localhost:8080/"
        },
        "id": "-SHT4fCZG7Ro",
        "outputId": "80eb9c71-a584-4b5c-c383-2f4af6a607ca"
      },
      "execution_count": 121,
      "outputs": [
        {
          "output_type": "stream",
          "name": "stdout",
          "text": [
            "Va = : 1.2094693385 (pu) 0.0 (degree)\n",
            "Vb = : 0.0 (pu) 116.5650511771 (degree)\n",
            "Vc = : 0.0 (pu) 116.5650511771 (degree)\n"
          ]
        }
      ]
    },
    {
      "cell_type": "code",
      "source": [
        "#PART 9\n",
        "\n",
        "Im = Ip_2*(xp2)/(xp1+xp2)\n",
        "\n",
        "vd_f = vf_pre-Im*(pos_seq[\"xm\"]+pos_seq[\"xtf3\"])\n",
        "\n",
        "vd_seq = np.array([[0],[vd_f],[0]])\n",
        "\n",
        "vd_ph = np.dot(T,vd_seq)\n",
        "\n",
        "print(\"Va = : \" +str(round(np.abs(vd_ph[0,0]),d)) + \" (pu) \" +str(round(np.angle(vd_ph[0,0], deg=True),d)) + \" (degree)\")\n",
        "print(\"Vb = : \" +str(round(np.abs(vd_ph[1,0]),d)) + \" (pu) \" +str(round(np.angle(vd_ph[1,0], deg=True),d)) + \" (degree)\")\n",
        "print(\"Vc = : \" +str(round(np.abs(vd_ph[2,0]),d)) + \" (pu) \" +str(round(np.angle(vd_ph[2,0], deg=True),d)) + \" (degree)\")\n"
      ],
      "metadata": {
        "colab": {
          "base_uri": "https://localhost:8080/"
        },
        "id": "58U7a2RtNOVT",
        "outputId": "832c9fcd-8d9b-48c1-8627-cc5b9a22c440"
      },
      "execution_count": 122,
      "outputs": [
        {
          "output_type": "stream",
          "name": "stdout",
          "text": [
            "Va = : 0.3372244898 (pu) 0.0 (degree)\n",
            "Vb = : 0.3372244898 (pu) -120.0 (degree)\n",
            "Vc = : 0.3372244898 (pu) 120.0 (degree)\n"
          ]
        }
      ]
    },
    {
      "cell_type": "code",
      "source": [
        "#PART 10\n",
        "\n",
        "v0_10 = v_seq_6[0,0]\n",
        "vp_10 = v_seq_6[1,0]\n",
        "vn_10 = v_seq_6[2,0]\n",
        "\n",
        "Ig_p_10 = (vf_pre-vp_10)/(pos_seq[\"xm\"]+pos_seq[\"xtf3\"]+pos_seq[\"xt\"])\n",
        "\n",
        "vd_p_10 = vf_pre - Ig_p_10*(pos_seq[\"xm\"]+pos_seq[\"xtf3\"])\n",
        "\n",
        "vd_n_10 = vn_10*((neg_seq[\"xm\"]+neg_seq[\"xtf3\"])/(neg_seq[\"xm\"]+neg_seq[\"xtf3\"]+neg_seq[\"xt\"]))\n",
        "\n",
        "vd_0_10 = v0_10\n",
        "\n",
        "vd_seq_10 = np.array([[vd_0_10],[vd_p_10],[vd_n_10]])\n",
        "\n",
        "vd_10 = np.dot(T,vd_seq_10)\n",
        "\n",
        "print(\"Va = : \" +str(round(np.abs(vd_10[0,0]),d)) + \" (pu) \" +str(round(np.angle(vd_10[0,0], deg=True),d)) + \" (degree)\")\n",
        "print(\"Vb = : \" +str(round(np.abs(vd_10[1,0]),d)) + \" (pu) \" +str(round(np.angle(vd_10[1,0], deg=True),d)) + \" (degree)\")\n",
        "print(\"Vc = : \" +str(round(np.abs(vd_10[2,0]),d)) + \" (pu) \" +str(round(np.angle(vd_10[2,0], deg=True),d)) + \" (degree)\")\n"
      ],
      "metadata": {
        "colab": {
          "base_uri": "https://localhost:8080/"
        },
        "id": "sTFNT9z92xmR",
        "outputId": "da7ff274-a194-49f2-ac5b-aee168cf85ad"
      },
      "execution_count": 123,
      "outputs": [
        {
          "output_type": "stream",
          "name": "stdout",
          "text": [
            "Va = : 0.1361631029 (pu) 0.0 (degree)\n",
            "Vb = : 1.2969753859 (pu) -137.8898236691 (degree)\n",
            "Vc = : 1.2969753859 (pu) 137.8898236691 (degree)\n"
          ]
        }
      ]
    },
    {
      "cell_type": "code",
      "source": [
        "#PART 11\n",
        "\n",
        "v0_11 = v_seq_7[0,0]\n",
        "vp_11 = v_seq_7[1,0]\n",
        "vn_11 = v_seq_7[2,0]\n",
        "\n",
        "Ig_p_11 = (vf_pre-vp_11)/(pos_seq[\"xm\"]+pos_seq[\"xtf3\"]+pos_seq[\"xt\"])\n",
        "\n",
        "vd_p_11 = vf_pre - Ig_p_11*(pos_seq[\"xm\"]+pos_seq[\"xtf3\"])\n",
        "\n",
        "vd_n_11 = vn_11*((neg_seq[\"xm\"]+neg_seq[\"xtf3\"])/(neg_seq[\"xm\"]+neg_seq[\"xtf3\"]+neg_seq[\"xt\"]))\n",
        "\n",
        "vd_0_11 = v0_11\n",
        "\n",
        "vd_seq_11 = np.array([[vd_0_11],[vd_p_11],[vd_n_11]])\n",
        "\n",
        "vd_11 = np.dot(T,vd_seq_11)\n",
        "\n",
        "print(\"Va = : \" +str(round(np.abs(vd_11[0,0]),d)) + \" (pu) \" +str(round(np.angle(vd_11[0,0], deg=True),d)) + \" (degree)\")\n",
        "print(\"Vb = : \" +str(round(np.abs(vd_11[1,0]),d)) + \" (pu) \" +str(round(np.angle(vd_11[1,0], deg=True),d)) + \" (degree)\")\n",
        "print(\"Vc = : \" +str(round(np.abs(vd_11[2,0]),d)) + \" (pu) \" +str(round(np.angle(vd_11[2,0], deg=True),d)) + \" (degree)\")"
      ],
      "metadata": {
        "colab": {
          "base_uri": "https://localhost:8080/"
        },
        "id": "lzePd5pm_V13",
        "outputId": "bfaa12a0-99ca-4fd5-f064-c83ef5098f33"
      },
      "execution_count": 124,
      "outputs": [
        {
          "output_type": "stream",
          "name": "stdout",
          "text": [
            "Va = : 0.9820825682 (pu) 0.0 (degree)\n",
            "Vb = : 0.567112559 (pu) -149.9812946392 (degree)\n",
            "Vc = : 0.567112559 (pu) 149.9812946392 (degree)\n"
          ]
        }
      ]
    },
    {
      "cell_type": "code",
      "source": [
        "#PART 12\n",
        "\n",
        "v0_12 = v_seq_8[0,0]\n",
        "vp_12 = v_seq_8[1,0]\n",
        "vn_12 = v_seq_8[2,0]\n",
        "\n",
        "Ig_p_12 = (vf_pre-vp_12)/(pos_seq[\"xm\"]+pos_seq[\"xtf3\"]+pos_seq[\"xt\"])\n",
        "\n",
        "vd_p_12 = vf_pre - Ig_p_12*(pos_seq[\"xm\"]+pos_seq[\"xtf3\"])\n",
        "\n",
        "vd_n_12 = vn_12*((neg_seq[\"xm\"]+neg_seq[\"xtf3\"])/(neg_seq[\"xm\"]+neg_seq[\"xtf3\"]+neg_seq[\"xt\"]))\n",
        "\n",
        "vd_0_12 = v0_12\n",
        "\n",
        "vd_seq_12 = np.array([[vd_0_12],[vd_p_12],[vd_n_12]])\n",
        "\n",
        "vd_12 = np.dot(T,vd_seq_12)\n",
        "\n",
        "print(\"Va = : \" +str(round(np.abs(vd_12[0,0]),d)) + \" (pu) \" +str(round(np.angle(vd_12[0,0], deg=True),d)) + \" (degree)\")\n",
        "print(\"Vb = : \" +str(round(np.abs(vd_12[1,0]),d)) + \" (pu) \" +str(round(np.angle(vd_12[1,0], deg=True),d)) + \" (degree)\")\n",
        "print(\"Vc = : \" +str(round(np.abs(vd_12[2,0]),d)) + \" (pu) \" +str(round(np.angle(vd_12[2,0], deg=True),d)) + \" (degree)\")"
      ],
      "metadata": {
        "colab": {
          "base_uri": "https://localhost:8080/"
        },
        "id": "Xri-Od4MDsQB",
        "outputId": "e4c4e5c8-527f-4d84-e1fc-60bbd1695077"
      },
      "execution_count": 125,
      "outputs": [
        {
          "output_type": "stream",
          "name": "stdout",
          "text": [
            "Va = : 1.2882878528 (pu) 0.0 (degree)\n",
            "Vb = : 0.287680845 (pu) -97.8736792206 (degree)\n",
            "Vc = : 0.287680845 (pu) 97.8736792206 (degree)\n"
          ]
        }
      ]
    }
  ]
}