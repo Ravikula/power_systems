{
  "nbformat": 4,
  "nbformat_minor": 0,
  "metadata": {
    "colab": {
      "provenance": [],
      "authorship_tag": "ABX9TyM9wY2Ztq0V4Mm3ql8XI0On",
      "include_colab_link": true
    },
    "kernelspec": {
      "name": "python3",
      "display_name": "Python 3"
    },
    "language_info": {
      "name": "python"
    }
  },
  "cells": [
    {
      "cell_type": "markdown",
      "metadata": {
        "id": "view-in-github",
        "colab_type": "text"
      },
      "source": [
        "<a href=\"https://colab.research.google.com/github/Ravikula/power_systems/blob/main/Power_Systems_Assignment_02.ipynb\" target=\"_parent\"><img src=\"https://colab.research.google.com/assets/colab-badge.svg\" alt=\"Open In Colab\"/></a>"
      ]
    },
    {
      "cell_type": "code",
      "source": [
        "import cmath\n",
        "import math\n",
        "import numpy as np"
      ],
      "metadata": {
        "id": "pGw3oy1keINI"
      },
      "execution_count": 1,
      "outputs": []
    },
    {
      "cell_type": "code",
      "execution_count": 2,
      "metadata": {
        "id": "xXNM2deuGnXL"
      },
      "outputs": [],
      "source": [
        "#Data\n",
        "\n",
        "pg = 100        #MVA    Generator rated power\n",
        "pm = 100        #MVA    Motor rated power\n",
        "vg = 13.8       #kV     Generator rated voltage\n",
        "vm = 13.8       #kV     Motor rated voltage\n",
        "\n",
        "vp_tf12 = 13.8  #kV     Transformer 1,2 primary voltage\n",
        "vs_ft12 = 132   #kV     Transformer 1,2 secondary voltage\n",
        "\n",
        "vp_tf3 = 13.8   #kV     Transformer 3 primary voltage\n",
        "vs_ft3 = 132    #kV     Transformer 3 secondary voltage\n",
        "\n",
        "xgg = 0.04j      #pu     Generator 1,2 Grounding impedance\n",
        "xgm = 0.05j      #pu     Motor grounding impedance\n",
        "\n",
        "\n",
        "#POSITIVE SEQUENCE\n",
        "\n",
        "pos_seq = {\"xg\" : 0.15j,    #0 - generator positive sequance reactance\n",
        "           \"xm\" : 0.2j,     #1 - motor positive sequance reactance\n",
        "           \"xt\" : 0.105j,   #2 - Transmission line positive sequance reactance\n",
        "           \"xtf12\": 0.10j,  #3 - Transformer 1,2 positive sequance reactance\n",
        "           \"xtf3\":0.10j}    #4 - transformer 3 positive sequance reactance\n",
        "\n",
        "#NEGATIVE SEQUENCE\n",
        "\n",
        "neg_seq = {\"xg\" : 0.170j,   #0 - generator negative sequance reactance\n",
        "           \"xm\" : 0.21j,    #1 - motor negative sequance reactance\n",
        "           \"xt\" : 0.105j,   #2 - Transmission line negative sequance reactance\n",
        "           \"xtf12\": 0.10j,  #3 - Transformer 1,2 negative sequance reactance\n",
        "           \"xtf3\":0.10j}    #4 - transformer 3 negative sequance reactance\n",
        "\n",
        "\n",
        "#ZERO SEQUANCE\n",
        "\n",
        "zero_seq = {\"xg\" : 0.050j,  #0 - generator negative sequance reactance\n",
        "           \"xm\" : 0.1j,     #1 - motor negative sequance reactance\n",
        "           \"xt\" : 0.315j,   #2 - Transmission line negative sequance reactance\n",
        "           \"xtf12\": 0.100j, #3 - Transformer 1,2 negative sequance reactance\n",
        "           \"xtf3\":0.10j}    #4 - transformer 3 negative sequance reactance\n",
        "\n",
        "a = cmath.rect(1, math.radians(120))\n",
        "a2 = cmath.rect(1, math.radians(240))\n",
        "\n",
        "#TRANSFORMATION MATRIX\n",
        "T = np.array([[1, 1, 1],\n",
        "              [1, a2, a],\n",
        "              [1, a, a2]])\n",
        "\n",
        "#INVERSE TRANSFORMATION MATRIX\n",
        "T_1 = np.array([[1, 1, 1],\n",
        "                [1, a, a2],\n",
        "                [1, a2, a]])\n",
        "\n",
        "d = 4     #No of decimal places"
      ]
    },
    {
      "cell_type": "code",
      "source": [
        "#Function to calculate parallel impedance\n",
        "\n",
        "def z_p(a,b):\n",
        "  c = 1/((1/a)+(1/b))\n",
        "  return c"
      ],
      "metadata": {
        "id": "I0q1R3ZyWtEs"
      },
      "execution_count": 3,
      "outputs": []
    },
    {
      "cell_type": "code",
      "source": [
        "#PART 1\n",
        "\n",
        "#POSITIVE SEQUENCE\n",
        "\n",
        "xp1 = pos_seq[\"xm\"]+pos_seq[\"xtf3\"]+pos_seq[\"xt\"]\n",
        "xp2 = z_p(pos_seq[\"xtf12\"]+pos_seq[\"xg\"],pos_seq[\"xtf12\"]+pos_seq[\"xg\"])\n",
        "Z_th_pos = z_p(xp1, xp2)\n",
        "\n",
        "print(\"Z_th_pos: \"+str(round(abs(Z_th_pos),d)) + \" (pu)  \" + str(math.degrees(cmath.phase(Z_th_pos)))+\" (degrees)\")\n",
        "\n",
        "\n",
        "#NEGATIVE SEQUENCE\n",
        "\n",
        "xn1 = neg_seq[\"xm\"]+neg_seq[\"xtf3\"]+neg_seq[\"xt\"]\n",
        "xn2 = z_p(neg_seq[\"xtf12\"]+neg_seq[\"xg\"],neg_seq[\"xtf12\"]+neg_seq[\"xg\"])\n",
        "Z_th_neg = z_p(xn1, xn2)\n",
        "\n",
        "print(\"Z_th_neg: \"+str(round(abs(Z_th_neg),d)) + \" (pu)  \" + str(math.degrees(cmath.phase(Z_th_neg)))+\" (degrees)\")\n",
        "\n",
        "\n",
        "#ZERO SEQUENCE\n",
        "\n",
        "Z_th_zero = zero_seq[\"xtf12\"]+zero_seq[\"xg\"]+xgg*3\n",
        "print(\"Z_th_zero: \"+str(round(abs(Z_th_zero),d)) + \" (pu)  \" + str(math.degrees(cmath.phase(Z_th_zero)))+\" (degrees)\")"
      ],
      "metadata": {
        "colab": {
          "base_uri": "https://localhost:8080/"
        },
        "id": "GdkO2LcpJ6kh",
        "outputId": "a72b72e8-87b7-47fa-95a0-aaf93bfdba7a"
      },
      "execution_count": 4,
      "outputs": [
        {
          "output_type": "stream",
          "name": "stdout",
          "text": [
            "Z_th_pos: 0.0955 (pu)  90.0 (degrees)\n",
            "Z_th_neg: 0.1019 (pu)  90.0 (degrees)\n",
            "Z_th_zero: 0.27 (pu)  90.0 (degrees)\n"
          ]
        }
      ]
    },
    {
      "cell_type": "code",
      "source": [
        "#PART 2\n",
        "\n",
        "# For balanced faults, only the positive sequance is considered.\n",
        "vf_pre = 1.02 +0j\n",
        "\n",
        "I0_2 = 0\n",
        "Ip_2 = vf_pre/Z_th_pos\n",
        "In_2 = 0\n",
        "\n",
        "#Sequence currents\n",
        "I_seq_2 = np.array([[I0_2],\n",
        "                  [Ip_2],\n",
        "                  [In_2]])\n",
        "\n",
        "#Fault currents\n",
        "If_ph_2 = np.dot(T, I_seq_2)\n",
        "\n",
        "print(\"Ia = : \" +str(round(np.abs(If_ph_2[0,0]),d)) + \" (pu) \" +str(round(np.angle(If_ph_2[0,0], deg=True),d)) + \" (degree)\")\n",
        "print(\"Ib = : \" +str(round(np.abs(If_ph_2[1,0]),d)) + \" (pu) \" +str(round(np.angle(If_ph_2[1,0], deg=True),d)) + \" (degree)\")\n",
        "print(\"Ic = : \" +str(round(np.abs(If_ph_2[2,0]),d)) + \" (pu) \" +str(round(np.angle(If_ph_2[2,0], deg=True),d)) + \" (degree)\")\n"
      ],
      "metadata": {
        "colab": {
          "base_uri": "https://localhost:8080/"
        },
        "id": "LGelkBEtlCl0",
        "outputId": "4a9483e8-8401-4c5f-b1cf-7706f19569e6"
      },
      "execution_count": 5,
      "outputs": [
        {
          "output_type": "stream",
          "name": "stdout",
          "text": [
            "Ia = : 10.6785 (pu) -90.0 (degree)\n",
            "Ib = : 10.6785 (pu) 150.0 (degree)\n",
            "Ic = : 10.6785 (pu) 30.0 (degree)\n"
          ]
        }
      ]
    },
    {
      "cell_type": "code",
      "source": [
        "\n",
        "#PART 3\n",
        "\n",
        "#Assume fault occur between phase A and Ground. Therefore, current flows only in phase A. Therefore, Ib=0 and Ic =0\n",
        "Ip_3 = vf_pre/(Z_th_pos+Z_th_neg+Z_th_zero)\n",
        "In_3 = Ip_3\n",
        "I0_3 = Ip_3\n",
        "\n",
        "#Using matrix\n",
        "I_seq_3 = np.array([[I0_3],\n",
        "                    [Ip_3],\n",
        "                    [In_3]])\n",
        "\n",
        "If_ph_3 = np.dot(T, I_seq_3)\n",
        "\n",
        "#Using general formulas\n",
        "Ia = Ip_3 + In_3 + I0_3\n",
        "Ib =0\n",
        "Ic =0\n",
        "\n",
        "print(\"Ia = : \" +str(round(abs(Ia),d)) + \"  \" +str(round(np.angle(Ia, deg=True),d)))\n",
        "print(\"Ib = : \" +str(abs(Ib)) + \"  \" +str(np.angle(Ib, deg=True)))\n",
        "print(\"Ic = : \" +str(abs(Ic)) + \"  \" +str(np.angle(Ic, deg=True)))\n",
        "\n",
        "print(\"................\")\n",
        "\n",
        "print(\"Ia = : \" +str(round(np.abs(If_ph_3[0,0]),d)) + \" (pu) \" +str(round(np.angle(If_ph_3[0,0], deg=True),d)) + \" (degree)\")\n",
        "print(\"Ib = : \" +str(round(np.abs(If_ph_3[1,0]),d)) + \" (pu) \" +str(round(np.angle(If_ph_3[1,0], deg=True),d)) + \" (degree)\")\n",
        "print(\"Ic = : \" +str(round(np.abs(If_ph_3[2,0]),d)) + \" (pu) \" +str(round(np.angle(If_ph_3[2,0], deg=True),d)) + \" (degree)\")\n"
      ],
      "metadata": {
        "colab": {
          "base_uri": "https://localhost:8080/"
        },
        "id": "P3kb7QyRDB9_",
        "outputId": "c011e9a7-dc3d-40a5-ea9f-b65c0ce1c547"
      },
      "execution_count": 6,
      "outputs": [
        {
          "output_type": "stream",
          "name": "stdout",
          "text": [
            "Ia = : 6.5471  -90.0\n",
            "Ib = : 0  0.0\n",
            "Ic = : 0  0.0\n",
            "................\n",
            "Ia = : 6.5471 (pu) -90.0 (degree)\n",
            "Ib = : 0.0 (pu) 26.5651 (degree)\n",
            "Ic = : 0.0 (pu) 26.5651 (degree)\n"
          ]
        }
      ]
    },
    {
      "cell_type": "code",
      "source": [
        "#PART 4\n",
        "\n",
        "Ip_4 = vf_pre/(Z_th_pos+Z_th_neg)\n",
        "\n",
        "In_4 = -Ip_4\n",
        "I0_4 = 0\n",
        "\n",
        "I_seq_4 = np.array([[I0_4],\n",
        "                    [Ip_4],\n",
        "                    [In_4]])\n",
        "\n",
        "If_ph_4 = np.dot(T, I_seq_4)\n",
        "\n",
        "print(\"Ia = : \" +str(round(np.abs(If_ph_4[0,0]),d)) + \" (pu) \" +str(round(np.angle(If_ph_4[0,0], deg=True),d)) + \" (degree)\")\n",
        "print(\"Ib = : \" +str(round(np.abs(If_ph_4[1,0]),d)) + \" (pu) \" +str(round(np.angle(If_ph_4[1,0], deg=True),d)) + \" (degree)\")\n",
        "print(\"Ic = : \" +str(round(np.abs(If_ph_4[2,0]),d)) + \" (pu) \" +str(round(np.angle(If_ph_4[2,0], deg=True),d)) + \" (degree)\")"
      ],
      "metadata": {
        "colab": {
          "base_uri": "https://localhost:8080/"
        },
        "id": "aq19rubZbQik",
        "outputId": "c5833c94-1b54-4c4e-e80e-2a8b358340c3"
      },
      "execution_count": 7,
      "outputs": [
        {
          "output_type": "stream",
          "name": "stdout",
          "text": [
            "Ia = : 0.0 (pu) 0.0 (degree)\n",
            "Ib = : 8.9506 (pu) 180.0 (degree)\n",
            "Ic = : 8.9506 (pu) -0.0 (degree)\n"
          ]
        }
      ]
    },
    {
      "cell_type": "code",
      "source": [
        "#PART 5\n",
        "\n",
        "#Assume fault is between phase B and C and ground. Then VB = VC = 0, IA = 0 and IB+IC = IF, Vp = Vn = V0\n",
        "\n",
        "Ip_5 = vf_pre/(Z_th_pos + z_p(Z_th_neg,Z_th_zero))\n",
        "Vp = z_p(Z_th_neg,Z_th_zero)*Ip_5\n",
        "\n",
        "In_5 = -(Vp/Z_th_neg)\n",
        "I0_5 = -(Vp/Z_th_zero)\n",
        "\n",
        "I_seq_5 = np.array([[I0_5],\n",
        "                    [Ip_5],\n",
        "                    [In_5]])\n",
        "If_ph_5 = np.dot(T, I_seq_5)\n",
        "\n",
        "\n",
        "print(\"Ia = : \" +str(round(np.abs(If_ph_5[0,0]),d)) + \" (pu) \" +str(round(np.angle(If_ph_5[0,0], deg=True),d)) + \" (degree)\")\n",
        "print(\"Ib = : \" +str(round(np.abs(If_ph_5[1,0]),d)) + \" (pu) \" +str(round(np.angle(If_ph_5[1,0], deg=True),d)) + \" (degree)\")\n",
        "print(\"Ic = : \" +str(round(np.abs(If_ph_5[2,0]),d)) + \" (pu) \" +str(round(np.angle(If_ph_5[2,0], deg=True),d)) + \" (degree)\")\n"
      ],
      "metadata": {
        "colab": {
          "base_uri": "https://localhost:8080/"
        },
        "id": "ho3xoV8YWbwd",
        "outputId": "98853281-ac83-4a88-c9ad-8820f2924213"
      },
      "execution_count": 8,
      "outputs": [
        {
          "output_type": "stream",
          "name": "stdout",
          "text": [
            "Ia = : 0.0 (pu) 0.0 (degree)\n",
            "Ib = : 9.3302 (pu) 164.6303 (degree)\n",
            "Ic = : 9.3302 (pu) 15.3697 (degree)\n"
          ]
        }
      ]
    },
    {
      "cell_type": "code",
      "source": [
        "#PART 6 - Normal method\n",
        "\n",
        "vp_l_g = vf_pre-Z_th_pos*(Ip_3)\n",
        "vn_l_g = -Z_th_neg*(Ip_3)\n",
        "v0_l_g = -Z_th_zero*(Ip_3)\n",
        "\n",
        "V_seq_l_g = np.array([[v0_l_g],\n",
        "                      [vp_l_g],\n",
        "                      [vn_l_g]])\n",
        "\n",
        "Vf_ph_l_g = np.dot(T, V_seq_l_g)\n",
        "\n",
        "\n",
        "print(\"Va = : \" +str(round(np.abs(Vf_ph_l_g[0,0]),d)) + \" (pu) \" +str(round(np.angle(Vf_ph_l_g[0,0], deg=True),d)) + \" (degree)\")\n",
        "print(\"Vb = : \" +str(round(np.abs(Vf_ph_l_g[1,0]),d)) + \" (pu) \" +str(round(np.angle(Vf_ph_l_g[1,0], deg=True),d)) + \" (degree)\")\n",
        "print(\"Vc = : \" +str(round(np.abs(Vf_ph_l_g[2,0]),d)) + \" (pu) \" +str(round(np.angle(Vf_ph_l_g[2,0], deg=True),d)) + \" (degree)\")\n"
      ],
      "metadata": {
        "colab": {
          "base_uri": "https://localhost:8080/"
        },
        "id": "1yRnKBtchsMK",
        "outputId": "b3f133c7-b1c0-48c2-be4f-0aedd38cddf9"
      },
      "execution_count": 9,
      "outputs": [
        {
          "output_type": "stream",
          "name": "stdout",
          "text": [
            "Va = : 0.0 (pu) 0.0 (degree)\n",
            "Vb = : 1.2581 (pu) -134.6303 (degree)\n",
            "Vc = : 1.2581 (pu) 134.6303 (degree)\n"
          ]
        }
      ]
    },
    {
      "cell_type": "code",
      "source": [
        "#PART 6 - Matrix Method\n",
        "\n",
        "VF = np.array([[0],[vf_pre],[0]])\n",
        "\n",
        "Z = np.array([[Z_th_zero, 0, 0],\n",
        "              [0, Z_th_pos, 0],\n",
        "              [0, 0, Z_th_neg]])\n",
        "\n",
        "I_seq_6 = np.array([[I0_3],[Ip_3],[In_3]])\n",
        "\n",
        "v_seq_6 = VF - np.dot(Z,I_seq_6)\n",
        "\n",
        "Vf_ph_l_g2 = np.dot(T,v_seq_6)\n",
        "\n",
        "\n",
        "print(\"Va = : \" +str(round(np.abs(Vf_ph_l_g2[0,0]),d)) + \" (pu) \" +str(round(np.angle(Vf_ph_l_g2[0,0], deg=True),d)) + \" (degree)\")\n",
        "print(\"Vb = : \" +str(round(np.abs(Vf_ph_l_g2[1,0]),d)) + \" (pu) \" +str(round(np.angle(Vf_ph_l_g2[1,0], deg=True),d)) + \" (degree)\")\n",
        "print(\"Vc = : \" +str(round(np.abs(Vf_ph_l_g2[2,0]),d)) + \" (pu) \" +str(round(np.angle(Vf_ph_l_g2[2,0], deg=True),d)) + \" (degree)\")\n"
      ],
      "metadata": {
        "colab": {
          "base_uri": "https://localhost:8080/"
        },
        "id": "SubPVL2h-OMP",
        "outputId": "ee48c097-77ce-491a-8a34-180a12c28fea"
      },
      "execution_count": 10,
      "outputs": [
        {
          "output_type": "stream",
          "name": "stdout",
          "text": [
            "Va = : 0.0 (pu) 0.0 (degree)\n",
            "Vb = : 1.2581 (pu) -134.6303 (degree)\n",
            "Vc = : 1.2581 (pu) 134.6303 (degree)\n"
          ]
        }
      ]
    },
    {
      "cell_type": "code",
      "source": [
        "#PART 7\n",
        "Z = np.array([[Z_th_zero, 0, 0],\n",
        "              [0, Z_th_pos, 0],\n",
        "              [0, 0, Z_th_neg]])\n",
        "\n",
        "I_seq_7 = np.array([[I0_4],[Ip_4],[In_4]])\n",
        "\n",
        "v_seq_7 = VF - np.dot(Z,I_seq_7)\n",
        "\n",
        "Vf_ph_l_l = np.dot(T,v_seq_7)\n",
        "\n",
        "print(\"Va = : \" +str(round(np.abs(Vf_ph_l_l[0,0]),d)) + \" (pu) \" +str(round(np.angle(Vf_ph_l_l[0,0], deg=True),d)) + \" (degree)\")\n",
        "print(\"Vb = : \" +str(round(np.abs(Vf_ph_l_l[1,0]),d)) + \" (pu) \" +str(round(np.angle(Vf_ph_l_l[1,0], deg=True),d)) + \" (degree)\")\n",
        "print(\"Vc = : \" +str(round(np.abs(Vf_ph_l_l[2,0]),d)) + \" (pu) \" +str(round(np.angle(Vf_ph_l_l[2,0], deg=True),d)) + \" (degree)\")"
      ],
      "metadata": {
        "colab": {
          "base_uri": "https://localhost:8080/"
        },
        "id": "sCuU8bBcALIz",
        "outputId": "64ef2797-3889-4332-db10-a0443a735754"
      },
      "execution_count": 11,
      "outputs": [
        {
          "output_type": "stream",
          "name": "stdout",
          "text": [
            "Va = : 1.0528 (pu) 0.0 (degree)\n",
            "Vb = : 0.5264 (pu) 180.0 (degree)\n",
            "Vc = : 0.5264 (pu) 180.0 (degree)\n"
          ]
        }
      ]
    },
    {
      "cell_type": "code",
      "source": [
        "#PART 8\n",
        "#!!!!!!!! Vb and Vc angles should be zero\n",
        "Z = np.array([[Z_th_zero, 0, 0],\n",
        "              [0, Z_th_pos, 0],\n",
        "              [0, 0, Z_th_neg]])\n",
        "\n",
        "I_seq_8 = np.array([[I0_5],[Ip_5],[In_5]])\n",
        "\n",
        "v_seq_8 = VF - np.dot(Z,I_seq_8)\n",
        "\n",
        "Vf_ph_l_l_g = np.dot(T,v_seq_8)\n",
        "\n",
        "print(\"Va = : \" +str(round(np.abs(Vf_ph_l_l_g[0,0]),d)) + \" (pu) \" +str(round(np.angle(Vf_ph_l_l_g[0,0], deg=True),d)) + \" (degree)\")\n",
        "print(\"Vb = : \" +str(round(np.abs(Vf_ph_l_l_g[1,0]),d)) + \" (pu) \" +str(round(np.angle(Vf_ph_l_l_g[1,0], deg=True),d)) + \" (degree)\")\n",
        "print(\"Vc = : \" +str(round(np.abs(Vf_ph_l_l_g[2,0]),d)) + \" (pu) \" +str(round(np.angle(Vf_ph_l_l_g[2,0], deg=True),d)) + \" (degree)\")"
      ],
      "metadata": {
        "colab": {
          "base_uri": "https://localhost:8080/"
        },
        "id": "-SHT4fCZG7Ro",
        "outputId": "9640aeda-40ab-4563-9118-3da72010c2b8"
      },
      "execution_count": 12,
      "outputs": [
        {
          "output_type": "stream",
          "name": "stdout",
          "text": [
            "Va = : 1.3354 (pu) 0.0 (degree)\n",
            "Vb = : 0.0 (pu) 116.5651 (degree)\n",
            "Vc = : 0.0 (pu) 116.5651 (degree)\n"
          ]
        }
      ]
    },
    {
      "cell_type": "code",
      "source": [
        "#PART 9\n",
        "\n",
        "Im = Ip_2*(xp2)/(xp1+xp2)\n",
        "\n",
        "vd_f = vf_pre-Im*(pos_seq[\"xm\"]+pos_seq[\"xtf3\"])\n",
        "\n",
        "vd_seq = np.array([[0],[vd_f],[0]])\n",
        "\n",
        "vd_ph = np.dot(T,vd_seq)\n",
        "\n",
        "print(\"Va = : \" +str(round(np.abs(vd_ph[0,0]),d)) + \" (pu) \" +str(round(np.angle(vd_ph[0,0], deg=True),d)) + \" (degree)\")\n",
        "print(\"Vb = : \" +str(round(np.abs(vd_ph[1,0]),d)) + \" (pu) \" +str(round(np.angle(vd_ph[1,0], deg=True),d)) + \" (degree)\")\n",
        "print(\"Vc = : \" +str(round(np.abs(vd_ph[2,0]),d)) + \" (pu) \" +str(round(np.angle(vd_ph[2,0], deg=True),d)) + \" (degree)\")"
      ],
      "metadata": {
        "colab": {
          "base_uri": "https://localhost:8080/"
        },
        "id": "58U7a2RtNOVT",
        "outputId": "b292b7d8-c4d9-4f19-d1c2-5d3d363b081e"
      },
      "execution_count": 13,
      "outputs": [
        {
          "output_type": "stream",
          "name": "stdout",
          "text": [
            "Va = : 0.2644 (pu) 0.0 (degree)\n",
            "Vb = : 0.2644 (pu) -120.0 (degree)\n",
            "Vc = : 0.2644 (pu) 120.0 (degree)\n"
          ]
        }
      ]
    },
    {
      "cell_type": "code",
      "source": [
        "#PART 10\n",
        "\n",
        "v0_10 = v_seq_6[0,0]\n",
        "vp_10 = v_seq_6[1,0]\n",
        "vn_10 = v_seq_6[2,0]\n",
        "\n",
        "Ig_p_10 = (vf_pre-vp_10)/(pos_seq[\"xm\"]+pos_seq[\"xtf3\"]+pos_seq[\"xt\"])\n",
        "\n",
        "vd_p_10 = vf_pre - Ig_p_10*(pos_seq[\"xm\"]+pos_seq[\"xtf3\"])\n",
        "\n",
        "vd_n_10 = vn_10*((neg_seq[\"xm\"]+neg_seq[\"xtf3\"])/(neg_seq[\"xm\"]+neg_seq[\"xtf3\"]+neg_seq[\"xt\"]))\n",
        "\n",
        "vd_0_10 = v0_10\n",
        "\n",
        "vd_seq_10 = np.array([[vd_0_10],[vd_p_10],[vd_n_10]])\n",
        "\n",
        "vd_10 = np.dot(T,vd_seq_10)\n",
        "\n",
        "print(\"Va = : \" +str(round(np.abs(vd_10[0,0]),d)) + \" (pu) \" +str(round(np.angle(vd_10[0,0], deg=True),d)) + \" (degree)\")\n",
        "print(\"Vb = : \" +str(round(np.abs(vd_10[1,0]),d)) + \" (pu) \" +str(round(np.angle(vd_10[1,0], deg=True),d)) + \" (degree)\")\n",
        "print(\"Vc = : \" +str(round(np.abs(vd_10[2,0]),d)) + \" (pu) \" +str(round(np.angle(vd_10[2,0], deg=True),d)) + \" (degree)\")\n"
      ],
      "metadata": {
        "colab": {
          "base_uri": "https://localhost:8080/"
        },
        "id": "sTFNT9z92xmR",
        "outputId": "0e08eece-4bd5-48d6-841a-e8de7f7b1c1b"
      },
      "execution_count": 14,
      "outputs": [
        {
          "output_type": "stream",
          "name": "stdout",
          "text": [
            "Va = : 0.1103 (pu) 0.0 (degree)\n",
            "Vb = : 1.2961 (pu) -136.4246 (degree)\n",
            "Vc = : 1.2961 (pu) 136.4246 (degree)\n"
          ]
        }
      ]
    },
    {
      "cell_type": "code",
      "source": [
        "#PART 11\n",
        "\n",
        "v0_11 = v_seq_7[0,0]\n",
        "vp_11 = v_seq_7[1,0]\n",
        "vn_11 = v_seq_7[2,0]\n",
        "\n",
        "Ig_p_11 = (vf_pre-vp_11)/(pos_seq[\"xm\"]+pos_seq[\"xtf3\"]+pos_seq[\"xt\"])\n",
        "\n",
        "vd_p_11 = vf_pre - Ig_p_11*(pos_seq[\"xm\"]+pos_seq[\"xtf3\"])\n",
        "\n",
        "vd_n_11 = vn_11*((neg_seq[\"xm\"]+neg_seq[\"xtf3\"])/(neg_seq[\"xm\"]+neg_seq[\"xtf3\"]+neg_seq[\"xt\"]))\n",
        "\n",
        "vd_0_11 = v0_11\n",
        "\n",
        "vd_seq_11 = np.array([[vd_0_11],[vd_p_11],[vd_n_11]])\n",
        "\n",
        "vd_11 = np.dot(T,vd_seq_11)\n",
        "\n",
        "print(\"Va = : \" +str(round(np.abs(vd_11[0,0]),d)) + \" (pu) \" +str(round(np.angle(vd_11[0,0], deg=True),d)) + \" (degree)\")\n",
        "print(\"Vb = : \" +str(round(np.abs(vd_11[1,0]),d)) + \" (pu) \" +str(round(np.angle(vd_11[1,0], deg=True),d)) + \" (degree)\")\n",
        "print(\"Vc = : \" +str(round(np.abs(vd_11[2,0]),d)) + \" (pu) \" +str(round(np.angle(vd_11[2,0], deg=True),d)) + \" (degree)\")"
      ],
      "metadata": {
        "colab": {
          "base_uri": "https://localhost:8080/"
        },
        "id": "lzePd5pm_V13",
        "outputId": "c3c00493-d69c-451b-9d3f-68767b5e420f"
      },
      "execution_count": 15,
      "outputs": [
        {
          "output_type": "stream",
          "name": "stdout",
          "text": [
            "Va = : 1.0476 (pu) 0.0 (degree)\n",
            "Vb = : 0.5705 (pu) -156.6457 (degree)\n",
            "Vc = : 0.5705 (pu) 156.6457 (degree)\n"
          ]
        }
      ]
    },
    {
      "cell_type": "code",
      "source": [
        "#PART 12\n",
        "\n",
        "v0_12 = v_seq_8[0,0]\n",
        "vp_12 = v_seq_8[1,0]\n",
        "vn_12 = v_seq_8[2,0]\n",
        "\n",
        "Ig_p_12 = (vf_pre-vp_12)/(pos_seq[\"xm\"]+pos_seq[\"xtf3\"]+pos_seq[\"xt\"])\n",
        "\n",
        "vd_p_12 = vf_pre - Ig_p_12*(pos_seq[\"xm\"]+pos_seq[\"xtf3\"])\n",
        "\n",
        "vd_n_12 = vn_12*((neg_seq[\"xm\"]+neg_seq[\"xtf3\"])/(neg_seq[\"xm\"]+neg_seq[\"xtf3\"]+neg_seq[\"xt\"]))\n",
        "\n",
        "vd_0_12 = v0_12\n",
        "\n",
        "vd_seq_12 = np.array([[vd_0_12],[vd_p_12],[vd_n_12]])\n",
        "\n",
        "vd_12 = np.dot(T,vd_seq_12)\n",
        "\n",
        "print(\"Va = : \" +str(round(np.abs(vd_12[0,0]),d)) + \" (pu) \" +str(round(np.angle(vd_12[0,0], deg=True),d)) + \" (degree)\")\n",
        "print(\"Vb = : \" +str(round(np.abs(vd_12[1,0]),d)) + \" (pu) \" +str(round(np.angle(vd_12[1,0], deg=True),d)) + \" (degree)\")\n",
        "print(\"Vc = : \" +str(round(np.abs(vd_12[2,0]),d)) + \" (pu) \" +str(round(np.angle(vd_12[2,0], deg=True),d)) + \" (degree)\")"
      ],
      "metadata": {
        "colab": {
          "base_uri": "https://localhost:8080/"
        },
        "id": "Xri-Od4MDsQB",
        "outputId": "99481425-4bb3-4009-ee33-c641f6ec7945"
      },
      "execution_count": 16,
      "outputs": [
        {
          "output_type": "stream",
          "name": "stdout",
          "text": [
            "Va = : 1.3718 (pu) 0.0 (degree)\n",
            "Vb = : 0.2273 (pu) -94.5943 (degree)\n",
            "Vc = : 0.2273 (pu) 94.5943 (degree)\n"
          ]
        }
      ]
    }
  ]
}