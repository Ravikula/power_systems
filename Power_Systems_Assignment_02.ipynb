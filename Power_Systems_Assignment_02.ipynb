{
  "nbformat": 4,
  "nbformat_minor": 0,
  "metadata": {
    "colab": {
      "provenance": [],
      "authorship_tag": "ABX9TyN6/EkLPtXEPuJbYHCkZ86M",
      "include_colab_link": true
    },
    "kernelspec": {
      "name": "python3",
      "display_name": "Python 3"
    },
    "language_info": {
      "name": "python"
    }
  },
  "cells": [
    {
      "cell_type": "markdown",
      "metadata": {
        "id": "view-in-github",
        "colab_type": "text"
      },
      "source": [
        "<a href=\"https://colab.research.google.com/github/Ravikula/power_systems/blob/main/Power_Systems_Assignment_02.ipynb\" target=\"_parent\"><img src=\"https://colab.research.google.com/assets/colab-badge.svg\" alt=\"Open In Colab\"/></a>"
      ]
    },
    {
      "cell_type": "code",
      "source": [
        "import cmath\n",
        "import math\n",
        "import numpy as np"
      ],
      "metadata": {
        "id": "pGw3oy1keINI"
      },
      "execution_count": 94,
      "outputs": []
    },
    {
      "cell_type": "code",
      "execution_count": 95,
      "metadata": {
        "id": "xXNM2deuGnXL"
      },
      "outputs": [],
      "source": [
        "#Data\n",
        "\n",
        "pg = 100        #MVA    Generator rated power\n",
        "pm = 100        #MVA    Motor rated power\n",
        "vg = 13.8       #kV     Generator rated voltage\n",
        "vm = 13.8       #kV     Motor rated voltage\n",
        "\n",
        "vp_tf12 = 13.8  #kV     Transformer 1,2 primary voltage\n",
        "vs_ft12 = 132   #kV     Transformer 1,2 secondary voltage\n",
        "\n",
        "vp_tf3 = 13.8   #kV     Transformer 3 primary voltage\n",
        "vs_ft3 = 132    #kV     Transformer 3 secondary voltage\n",
        "\n",
        "xgg = 0.04j      #pu     Generator 1,2 Grounding impedance\n",
        "xgm = 0.05j      #pu     Motor grounding impedance\n",
        "\n",
        "\n",
        "#POSITIVE SEQUENCE\n",
        "\n",
        "pos_seq = {\"xg\" : 0.15j,    #0 - generator positive sequance reactance\n",
        "           \"xm\" : 0.2j,     #1 - motor positive sequance reactance\n",
        "           \"xt\" : 0.105j,   #2 - Transmission line positive sequance reactance\n",
        "           \"xtf12\": 0.10j,  #3 - Transformer 1,2 positive sequance reactance\n",
        "           \"xtf3\":0.10j}    #4 - transformer 3 positive sequance reactance\n",
        "\n",
        "#NEGATIVE SEQUENCE\n",
        "\n",
        "neg_seq = {\"xg\" : 0.170j,   #0 - generator negative sequance reactance\n",
        "           \"xm\" : 0.21j,    #1 - motor negative sequance reactance\n",
        "           \"xt\" : 0.105j,   #2 - Transmission line negative sequance reactance\n",
        "           \"xtf12\": 0.10j,  #3 - Transformer 1,2 negative sequance reactance\n",
        "           \"xtf3\":0.10j}    #4 - transformer 3 negative sequance reactance\n",
        "\n",
        "\n",
        "#ZERO SEQUANCE\n",
        "\n",
        "zero_seq = {\"xg\" : 0.050j,  #0 - generator negative sequance reactance\n",
        "           \"xm\" : 0.1j,     #1 - motor negative sequance reactance\n",
        "           \"xt\" : 0.315j,   #2 - Transmission line negative sequance reactance\n",
        "           \"xtf12\": 0.100j, #3 - Transformer 1,2 negative sequance reactance\n",
        "           \"xtf3\":0.10j}    #4 - transformer 3 negative sequance reactance\n",
        "\n",
        "a = cmath.rect(1, math.radians(120))\n",
        "a2 = cmath.rect(1, math.radians(240))\n",
        "\n",
        "#TRANSFORMATION MATRIX\n",
        "T = np.array([[1, 1, 1],\n",
        "              [1, a2, a],\n",
        "              [1, a, a2]])\n",
        "\n",
        "#INVERSE TRANSFORMATION MATRIX\n",
        "T_1 = np.array([[1, 1, 1],\n",
        "                [1, a, a2],\n",
        "                [1, a2, a]])\n",
        "\n",
        "d = 6     #No of decimal places"
      ]
    },
    {
      "cell_type": "code",
      "source": [
        "#Function to calculate parallel impedance\n",
        "\n",
        "def z_p(a,b):\n",
        "  c = 1/((1/a)+(1/b))\n",
        "  return c"
      ],
      "metadata": {
        "id": "I0q1R3ZyWtEs"
      },
      "execution_count": 96,
      "outputs": []
    },
    {
      "cell_type": "code",
      "source": [
        "#PART 1\n",
        "\n",
        "#POSITIVE SEQUENCE\n",
        "\n",
        "xp1 = pos_seq[\"xm\"]+pos_seq[\"xtf3\"]+pos_seq[\"xt\"]\n",
        "xp2 = z_p(pos_seq[\"xtf12\"]+pos_seq[\"xg\"],pos_seq[\"xtf12\"]+pos_seq[\"xg\"])\n",
        "Z_th_pos = z_p(xp1, xp2)\n",
        "\n",
        "print(\"Z_th_pos: \"+str(round(abs(Z_th_pos),d)) + \" (Magnitude)  \" + str(math.degrees(cmath.phase(Z_th_pos)))+\" (degrees)\")\n",
        "\n",
        "\n",
        "#NEGATIVE SEQUENCE\n",
        "\n",
        "xn1 = neg_seq[\"xm\"]+neg_seq[\"xtf3\"]+neg_seq[\"xt\"]\n",
        "xn2 = z_p(neg_seq[\"xtf12\"]+neg_seq[\"xg\"],neg_seq[\"xtf12\"]+neg_seq[\"xg\"])\n",
        "Z_th_neg = z_p(xn1, xn2)\n",
        "\n",
        "print(\"Z_th_neg: \"+str(round(abs(Z_th_neg),d)) + \" (Magnitude)  \" + str(math.degrees(cmath.phase(Z_th_neg)))+\" (degrees)\")\n",
        "\n",
        "\n",
        "#ZERO SEQUENCE\n",
        "\n",
        "Z_th_zero = zero_seq[\"xtf12\"]+zero_seq[\"xg\"]+xgg*3\n",
        "print(\"Z_th_zero: \"+str(round(abs(Z_th_zero),d)) + \" (Magnitude)  \" + str(math.degrees(cmath.phase(Z_th_zero)))+\" (degrees)\")"
      ],
      "metadata": {
        "colab": {
          "base_uri": "https://localhost:8080/"
        },
        "id": "GdkO2LcpJ6kh",
        "outputId": "6dbc893e-275b-4ad2-cedf-7138a649ec58"
      },
      "execution_count": 97,
      "outputs": [
        {
          "output_type": "stream",
          "name": "stdout",
          "text": [
            "Z_th_pos: 0.095519 (Magnitude)  90.0 (degrees)\n",
            "Z_th_neg: 0.101864 (Magnitude)  90.0 (degrees)\n",
            "Z_th_zero: 0.27 (Magnitude)  90.0 (degrees)\n"
          ]
        }
      ]
    },
    {
      "cell_type": "code",
      "source": [
        "#PART 2\n",
        "\n",
        "# For balanced faults, only the positive sequance is considered.\n",
        "vf_pre = 1.02 +0j\n",
        "\n",
        "I0_2 = 0\n",
        "Ip_2 = vf_pre/Z_th_pos\n",
        "In_2 = 0\n",
        "\n",
        "#Sequence currents\n",
        "I_seq_2 = np.array([[I0_2],\n",
        "                  [Ip_2],\n",
        "                  [In_2]])\n",
        "\n",
        "If_ph_2 = np.dot(T, I_seq_2)\n",
        "\n",
        "print(\"Ia = : \" +str(np.abs(If_ph_2[0])) + \"  \" +str(np.angle(If_ph_2[0], deg=True)))\n",
        "print(\"Ib = : \" +str(np.abs(If_ph_2[1])) + \"  \" +str(np.angle(If_ph_2[1], deg=True)))\n",
        "print(\"Ic = : \" +str(np.abs(If_ph_2[2])) + \"  \" +str(np.angle(If_ph_2[2], deg=True)))\n"
      ],
      "metadata": {
        "colab": {
          "base_uri": "https://localhost:8080/"
        },
        "id": "LGelkBEtlCl0",
        "outputId": "e514dc8b-bda4-43e0-ce16-47b821403eae"
      },
      "execution_count": 98,
      "outputs": [
        {
          "output_type": "stream",
          "name": "stdout",
          "text": [
            "Ia = : [10.67851852]  [-90.]\n",
            "Ib = : [10.67851852]  [150.]\n",
            "Ic = : [10.67851852]  [30.]\n"
          ]
        }
      ]
    },
    {
      "cell_type": "code",
      "source": [
        "from re import I\n",
        "#PART 3\n",
        "\n",
        "#Assume fault occur between phase A and Ground. Therefore, current flows only in phase A. Therefore, Ib=0 and Ic =0\n",
        "Ip_3 = vf_pre/(Z_th_pos+Z_th_neg+Z_th_zero)\n",
        "In_3 = Ip_3\n",
        "I0_3 = Ip_3\n",
        "\n",
        "I_seq_3 = np.array([[I0_3],\n",
        "                    [Ip_3],\n",
        "                    [In_3]])\n",
        "\n",
        "If_ph_3 = np.dot(T, I_seq_3)\n",
        "\n",
        "print(\"Ia = : \" +str(np.abs(If_ph_3[0])) + \"  \" +str(np.angle(If_ph_3[0], deg=True)))\n",
        "print(\"Ib = : \" +str(np.abs(If_ph_3[1])) + \"  \" +str(np.angle(If_ph_3[1], deg=True)))\n",
        "print(\"Ic = : \" +str(np.abs(If_ph_3[2])) + \"  \" +str(np.angle(If_ph_3[2], deg=True)))\n",
        "\n",
        "Ia = Ip_3 + In_3 + I0_3\n",
        "Ib =0\n",
        "Ic =0\n",
        "\n",
        "print(\"Ia = : \" +str(abs(Ia)) + \"  \" +str(np.angle(Ia, deg=True)))\n",
        "print(\"Ib = : \" +str(abs(Ib)) + \"  \" +str(np.angle(Ib, deg=True)))\n",
        "print(\"Ic = : \" +str(abs(Ic)) + \"  \" +str(np.angle(Ic, deg=True)))\n"
      ],
      "metadata": {
        "colab": {
          "base_uri": "https://localhost:8080/"
        },
        "id": "P3kb7QyRDB9_",
        "outputId": "eaa66716-b8b8-4c0b-9d92-9fdf34b37fa8"
      },
      "execution_count": 99,
      "outputs": [
        {
          "output_type": "stream",
          "name": "stdout",
          "text": [
            "Ia = : [6.54710001]  [-90.]\n",
            "Ib = : [9.93013661e-16]  [26.56505118]\n",
            "Ic = : [9.93013661e-16]  [26.56505118]\n",
            "Ia = : 6.547100013211784  -90.0\n",
            "Ib = : 0  0.0\n",
            "Ic = : 0  0.0\n"
          ]
        }
      ]
    },
    {
      "cell_type": "code",
      "source": [
        "#PART 4\n",
        "\n",
        "Ip_4 = vf_pre/(Z_th_pos+Z_th_neg)\n",
        "\n",
        "In_4 = -Ip_4\n",
        "I0_4 = 0\n",
        "\n",
        "I_seq_4 = np.array([[I0_4],\n",
        "                    [Ip_4],\n",
        "                    [In_4]])\n",
        "\n",
        "If_ph_4 = np.dot(T, I_seq_4)\n",
        "\n",
        "print(\"Ia = : \" +str(np.abs(If_ph_4[0])) + \"  \" +str(np.angle(If_ph_4[0], deg=True)))\n",
        "print(\"Ib = : \" +str(np.abs(If_ph_4[1])) + \"  \" +str(np.angle(If_ph_4[1], deg=True)))\n",
        "print(\"Ic = : \" +str(np.abs(If_ph_4[2])) + \"  \" +str(np.angle(If_ph_4[2], deg=True)))\n",
        "\n",
        "\n",
        "print(round(-2.27421069e-14, 4))"
      ],
      "metadata": {
        "colab": {
          "base_uri": "https://localhost:8080/"
        },
        "id": "aq19rubZbQik",
        "outputId": "9af379ba-9426-475d-b8ac-a0aa789e0f89"
      },
      "execution_count": 100,
      "outputs": [
        {
          "output_type": "stream",
          "name": "stdout",
          "text": [
            "Ia = : [0.]  [0.]\n",
            "Ib = : [8.9505999]  [180.]\n",
            "Ic = : [8.9505999]  [-2.27421069e-14]\n",
            "-0.0\n"
          ]
        }
      ]
    },
    {
      "cell_type": "code",
      "source": [
        "#PART 5\n",
        "\n",
        "#Assume fault is between phase B and C and ground. Then VB = VC = 0, IA = 0 and IB+IC = IF, Vp = Vn = V0\n",
        "\n",
        "Ip_5 = vf_pre/(Z_th_pos + z_p(Z_th_neg,Z_th_zero))\n",
        "Vp = z_p(Z_th_neg,Z_th_zero)*Ip_4\n",
        "\n",
        "In_5 = -(Vp/Z_th_neg)\n",
        "I0_5 = -(Vp/Z_th_zero)\n",
        "\n",
        "I_seq_5 = np.array([[I0_5],\n",
        "                    [Ip_5],\n",
        "                    [In_5]])\n",
        "If_ph_5 = np.dot(T, I_seq_5)\n",
        "\n",
        "print(\"Ia = : \" +str(np.abs(If_ph_5[0])) + \"  \" +str(np.angle(If_ph_5[0], deg=True)))\n",
        "print(\"Ib = : \" +str(np.abs(If_ph_5[1])) + \"  \" +str(np.angle(If_ph_5[1], deg=True)))\n",
        "print(\"Ic = : \" +str(np.abs(If_ph_5[2])) + \"  \" +str(np.angle(If_ph_5[2], deg=True)))\n",
        "\n",
        "\n",
        "\n"
      ],
      "metadata": {
        "colab": {
          "base_uri": "https://localhost:8080/"
        },
        "id": "ho3xoV8YWbwd",
        "outputId": "03908a1d-e019-4d65-ddf6-f9af35c8762a"
      },
      "execution_count": 101,
      "outputs": [
        {
          "output_type": "stream",
          "name": "stdout",
          "text": [
            "Ia = : [0.85080413]  [-90.]\n",
            "Ib = : [8.83703661]  [163.23689974]\n",
            "Ic = : [8.83703661]  [16.76310026]\n"
          ]
        }
      ]
    },
    {
      "cell_type": "code",
      "source": [
        "#PART 6 - Normal method\n",
        "\n",
        "vp_l_g = vf_pre-Z_th_pos*(Ip_3)\n",
        "vn_l_g = -Z_th_neg*(Ip_3)\n",
        "v0_l_g = -Z_th_zero*(Ip_3)\n",
        "\n",
        "V_seq_l_g = np.array([[v0_l_g],\n",
        "                      [vp_l_g],\n",
        "                      [vn_l_g]])\n",
        "\n",
        "Vf_ph_l_g = np.dot(T, V_seq_l_g)\n",
        "\n",
        "print(\"Va = : \" +str(np.abs(Vf_ph_l_g[0])) + \"  \" +str(np.angle(Vf_ph_l_g[0], deg=True)))\n",
        "print(\"Vb = : \" +str(np.abs(Vf_ph_l_g[1])) + \"  \" +str(np.angle(Vf_ph_l_g[1], deg=True)))\n",
        "print(\"Vc = : \" +str(np.abs(Vf_ph_l_g[2])) + \"  \" +str(np.angle(Vf_ph_l_g[2], deg=True)))\n"
      ],
      "metadata": {
        "colab": {
          "base_uri": "https://localhost:8080/"
        },
        "id": "1yRnKBtchsMK",
        "outputId": "812446dd-7939-448c-b2a4-6ced9f0dae1b"
      },
      "execution_count": 107,
      "outputs": [
        {
          "output_type": "stream",
          "name": "stdout",
          "text": [
            "Va = : [8.32667268e-17]  [0.]\n",
            "Vb = : [1.25810769]  [-134.63034709]\n",
            "Vc = : [1.25810769]  [134.63034709]\n"
          ]
        }
      ]
    },
    {
      "cell_type": "code",
      "source": [
        "#PART 6 - Matrix Method\n",
        "\n",
        "vf_6 = np.array([[0],[vf_pre],[0]])\n",
        "\n",
        "Z = np.array([[Z_th_zero, 0, 0],\n",
        "              [0, Z_th_pos, 0],\n",
        "              [0, 0, Z_th_neg]])\n",
        "\n",
        "I_seq_6 = np.array([[I0_3],[Ip_3],[In_3]])\n",
        "\n",
        "v_seq_6 = vf_6 - np.dot(Z,I_seq_6)\n",
        "\n",
        "Vf_ph_l_g2 = np.dot(T,v_seq_6)\n",
        "\n",
        "print(\"Va = : \" +str(np.abs(Vf_ph_l_g2[0])) + \"  \" +str(np.angle(Vf_ph_l_g2[0], deg=True)))\n",
        "print(\"Vb = : \" +str(np.abs(Vf_ph_l_g2[1])) + \"  \" +str(np.angle(Vf_ph_l_g2[1], deg=True)))\n",
        "print(\"Vc = : \" +str(np.abs(Vf_ph_l_g2[2])) + \"  \" +str(np.angle(Vf_ph_l_g2[2], deg=True)))"
      ],
      "metadata": {
        "colab": {
          "base_uri": "https://localhost:8080/"
        },
        "id": "SubPVL2h-OMP",
        "outputId": "d8dd8e03-d2cc-42ac-9a62-5a335b61bafc"
      },
      "execution_count": 109,
      "outputs": [
        {
          "output_type": "stream",
          "name": "stdout",
          "text": [
            "Va = : [8.32667268e-17]  [0.]\n",
            "Vb = : [1.25810769]  [-134.63034709]\n",
            "Vc = : [1.25810769]  [134.63034709]\n"
          ]
        }
      ]
    },
    {
      "cell_type": "code",
      "source": [
        "#PART 7\n",
        "vf_6 = np.array([[0],[vf_pre],[0]])\n",
        "\n",
        "Z = np.array([[Z_th_zero, 0, 0],\n",
        "              [0, Z_th_pos, 0],\n",
        "              [0, 0, Z_th_neg]])\n",
        "\n",
        "I_seq_6 = np.array([[I0_3],[Ip_3],[In_3]])\n",
        "\n",
        "v_seq_6 = vf_6 - np.dot(Z,I_seq_6)\n",
        "\n",
        "Vf_ph_l_g2 = np.dot(T,v_seq_6)\n",
        "\n",
        "print(\"Va = : \" +str(np.abs(Vf_ph_l_g2[0])) + \"  \" +str(np.angle(Vf_ph_l_g2[0], deg=True)))\n",
        "print(\"Vb = : \" +str(np.abs(Vf_ph_l_g2[1])) + \"  \" +str(np.angle(Vf_ph_l_g2[1], deg=True)))\n",
        "print(\"Vc = : \" +str(np.abs(Vf_ph_l_g2[2])) + \"  \" +str(np.angle(Vf_ph_l_g2[2], deg=True)))"
      ],
      "metadata": {
        "id": "sCuU8bBcALIz"
      },
      "execution_count": null,
      "outputs": []
    },
    {
      "cell_type": "code",
      "source": [
        "\n",
        "\n",
        "A = np.array([[-17j, 5j, 2j],\n",
        "              [5j, -14j, 4j],\n",
        "              [2j, 4j, -6j]], dtype=complex)\n",
        "\n",
        "A_inv = np.linalg.inv(A)\n",
        "\n",
        "print(\"Inverse of A:\")\n",
        "print(A_inv)"
      ],
      "metadata": {
        "colab": {
          "base_uri": "https://localhost:8080/"
        },
        "id": "N65kHJ8U3ul9",
        "outputId": "f73af320-7a2a-4302-d77f-affa71ec9bec"
      },
      "execution_count": 103,
      "outputs": [
        {
          "output_type": "stream",
          "name": "stdout",
          "text": [
            "Inverse of A:\n",
            "[[0.+0.07816092j 0.+0.04367816j 0.+0.05517241j]\n",
            " [0.+0.04367816j 0.+0.11264368j 0.+0.08965517j]\n",
            " [0.+0.05517241j 0.+0.08965517j 0.+0.24482759j]]\n"
          ]
        }
      ]
    },
    {
      "cell_type": "code",
      "source": [
        "\n",
        "\n",
        "\n",
        "\n",
        "\n",
        "\n",
        "V_ph = np.array([[cmath.rect(280, math.radians(0))],\n",
        "                 [cmath.rect(260, math.radians(-120))],\n",
        "                 [cmath.rect(300, math.radians(115))]])\n",
        "\n",
        "\n",
        "V = np.dot(T_1, V_ph)/3\n",
        "\n",
        "print(np.abs(V))\n",
        "print(np.angle(V, deg=True))\n",
        "\n"
      ],
      "metadata": {
        "colab": {
          "base_uri": "https://localhost:8080/"
        },
        "id": "kdshZsqC3ywW",
        "outputId": "add96cfe-c21a-4a56-9410-5c480485a4b1"
      },
      "execution_count": 104,
      "outputs": [
        {
          "output_type": "stream",
          "name": "stdout",
          "text": [
            "[[ 17.39159426]\n",
            " [279.75526649]\n",
            " [ 10.05932327]]\n",
            "[[  63.58065491]\n",
            " [  -1.78529771]\n",
            " [-137.00601624]]\n"
          ]
        }
      ]
    },
    {
      "cell_type": "code",
      "source": [
        "import numpy as np\n",
        "\n",
        "# Create a 2D NumPy array\n",
        "arr_2d = np.array([[1, 2, 3],\n",
        "                   [4, 5, 6],\n",
        "                   [7, 8, 9]])\n",
        "\n",
        "# Access elements in a 2D array\n",
        "element = arr_2d[1, 2]  # Access the element at row 1, column 2 (6)\n",
        "\n",
        "print(\"Element:\", element)"
      ],
      "metadata": {
        "colab": {
          "base_uri": "https://localhost:8080/"
        },
        "id": "Mgf4MDgLJHpM",
        "outputId": "b6b8e0f9-9e4e-4209-a9e3-1360fdff6372"
      },
      "execution_count": 105,
      "outputs": [
        {
          "output_type": "stream",
          "name": "stdout",
          "text": [
            "Element: 6\n"
          ]
        }
      ]
    },
    {
      "cell_type": "code",
      "source": [
        "import numpy as np\n",
        "\n",
        "# Create a 3x3 matrix\n",
        "matrix_3x3 = np.array([[1, 2, 3],\n",
        "                      [4, 5, 6],\n",
        "                      [7, 8, 9]])\n",
        "\n",
        "# Create a 3x1 column vector\n",
        "vector_3x1 = np.array([[1],\n",
        "                       [2],\n",
        "                       [3]])\n",
        "\n",
        "# Perform matrix multiplication using numpy.dot() or numpy.matmul()\n",
        "result = np.dot(matrix_3x3, vector_3x1)  # or np.matmul(matrix_3x3, vector_3x1)\n",
        "\n",
        "print(\"Result of matrix multiplication:\")\n",
        "print(result)"
      ],
      "metadata": {
        "colab": {
          "base_uri": "https://localhost:8080/"
        },
        "id": "9dQUk3cJaVaZ",
        "outputId": "3f964ff8-09cb-4d6a-f38e-fff4bed43d6f"
      },
      "execution_count": 106,
      "outputs": [
        {
          "output_type": "stream",
          "name": "stdout",
          "text": [
            "Result of matrix multiplication:\n",
            "[[14]\n",
            " [32]\n",
            " [50]]\n"
          ]
        }
      ]
    }
  ]
}