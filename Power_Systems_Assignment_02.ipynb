{
  "nbformat": 4,
  "nbformat_minor": 0,
  "metadata": {
    "colab": {
      "provenance": [],
      "authorship_tag": "ABX9TyO6BCki7JiJ3p4XyK9+ky/U",
      "include_colab_link": true
    },
    "kernelspec": {
      "name": "python3",
      "display_name": "Python 3"
    },
    "language_info": {
      "name": "python"
    }
  },
  "cells": [
    {
      "cell_type": "markdown",
      "metadata": {
        "id": "view-in-github",
        "colab_type": "text"
      },
      "source": [
        "<a href=\"https://colab.research.google.com/github/Ravikula/power_systems/blob/main/Power_Systems_Assignment_02.ipynb\" target=\"_parent\"><img src=\"https://colab.research.google.com/assets/colab-badge.svg\" alt=\"Open In Colab\"/></a>"
      ]
    },
    {
      "cell_type": "code",
      "source": [
        "import cmath\n",
        "import math\n",
        "import numpy as np"
      ],
      "metadata": {
        "id": "pGw3oy1keINI"
      },
      "execution_count": 21,
      "outputs": []
    },
    {
      "cell_type": "code",
      "execution_count": 37,
      "metadata": {
        "id": "xXNM2deuGnXL"
      },
      "outputs": [],
      "source": [
        "#Data\n",
        "\n",
        "pg = 100        #MVA    Generator rated power\n",
        "pm = 100        #MVA    Motor rated power\n",
        "vg = 13.8       #kV     Generator rated voltage\n",
        "vm = 13.8       #kV     Motor rated voltage\n",
        "\n",
        "vp_tf12 = 13.8  #kV     Transformer 1,2 primary voltage\n",
        "vs_ft12 = 132   #kV     Transformer 1,2 secondary voltage\n",
        "\n",
        "vp_tf3 = 13.8   #kV     Transformer 3 primary voltage\n",
        "vs_ft3 = 132    #kV     Transformer 3 secondary voltage\n",
        "\n",
        "xgg = 0.04j      #pu     Generator 1,2 Grounding impedance\n",
        "xgm = 0.05j      #pu     Motor grounding impedance\n",
        "\n",
        "\n",
        "#POSITIVE SEQUENCE\n",
        "\n",
        "pos_seq = {\"xg\" : 0.145j,   #0 - generator positive sequance reactance\n",
        "           \"xm\" : 0.244j,   #1 - motor positive sequance reactance\n",
        "           \"xt\" : 0.162j,   #2 - Transmission line positive sequance reactance\n",
        "           \"xtf12\" :0.084j, #3 - Transformer 1,2 positive sequance reactance\n",
        "           \"xtf3\":0.084j}   #4 - transformer 3 positive sequance reactance\n",
        "\n",
        "#NEGATIVE SEQUENCE\n",
        "\n",
        "neg_seq = {\"xg\" : 0.107j,   #0 - generator negative sequance reactance\n",
        "           \"xm\" : 0.276j,   #1 - motor negative sequance reactance\n",
        "           \"xt\" : 0.162j,   #2 - Transmission line negative sequance reactance\n",
        "           \"xtf12\": 0.084j, #3 - Transformer 1,2 negative sequance reactance\n",
        "           \"xtf3\":0.084j}   #4 - transformer 3 negative sequance reactance\n",
        "\n",
        "\n",
        "#ZERO SEQUANCE\n",
        "\n",
        "zero_seq = {\"xg\" : 0.040j,  #0 - generator negative sequance reactance\n",
        "           \"xm\" : 0.122j,   #1 - motor negative sequance reactance\n",
        "           \"xt\" : 0.453j,   #2 - Transmission line negative sequance reactance\n",
        "           \"xtf12\": 0.084j, #3 - Transformer 1,2 negative sequance reactance\n",
        "           \"xtf3\":0.084j}    #4 - transformer 3 negative sequance reactance\n",
        "\n",
        "a = cmath.rect(1, math.radians(120))\n",
        "a2 = cmath.rect(1, math.radians(240))\n",
        "\n",
        "#TRANSFORMATION MATRIX\n",
        "T = np.array([[1, 1, 1],\n",
        "              [1, a2, a],\n",
        "              [1, a, a2]])\n",
        "\n",
        "#INVERSE TRANSFORMATION MATRIX\n",
        "T_1 = np.array([[1, 1, 1],\n",
        "                [1, a, a2],\n",
        "                [1, a2, a]])\n",
        "\n",
        "d = 20     #No of decimal places"
      ]
    },
    {
      "cell_type": "code",
      "source": [
        "#Function to calculate parallel impedance\n",
        "\n",
        "def z_p(a,b):\n",
        "  c = 1/((1/a)+(1/b))\n",
        "  return c"
      ],
      "metadata": {
        "id": "I0q1R3ZyWtEs"
      },
      "execution_count": 23,
      "outputs": []
    },
    {
      "cell_type": "code",
      "source": [
        "#PART 1\n",
        "\n",
        "#POSITIVE SEQUENCE\n",
        "\n",
        "xp1 = pos_seq[\"xm\"]+pos_seq[\"xtf3\"]+pos_seq[\"xt\"]\n",
        "xp2 = z_p(pos_seq[\"xtf12\"]+pos_seq[\"xg\"],pos_seq[\"xtf12\"]+pos_seq[\"xg\"])\n",
        "Z_th_pos = z_p(xp1, xp2)\n",
        "\n",
        "print(\"Z_th_pos: \"+str(round(abs(Z_th_pos),d)) + \" (pu)  \" + str(math.degrees(cmath.phase(Z_th_pos)))+\" (degrees)\")\n",
        "\n",
        "\n",
        "#NEGATIVE SEQUENCE\n",
        "\n",
        "xn1 = neg_seq[\"xm\"]+neg_seq[\"xtf3\"]+neg_seq[\"xt\"]\n",
        "xn2 = z_p(neg_seq[\"xtf12\"]+neg_seq[\"xg\"],neg_seq[\"xtf12\"]+neg_seq[\"xg\"])\n",
        "Z_th_neg = z_p(xn1, xn2)\n",
        "\n",
        "print(\"Z_th_neg: \"+str(round(abs(Z_th_neg),d)) + \" (pu)  \" + str(math.degrees(cmath.phase(Z_th_neg)))+\" (degrees)\")\n",
        "\n",
        "\n",
        "#ZERO SEQUENCE\n",
        "\n",
        "Z_th_zero = zero_seq[\"xtf12\"]+zero_seq[\"xg\"]+xgg*3\n",
        "print(\"Z_th_zero: \"+str(round(abs(Z_th_zero),d)) + \" (pu)  \" + str(math.degrees(cmath.phase(Z_th_zero)))+\" (degrees)\")\n",
        "\n"
      ],
      "metadata": {
        "colab": {
          "base_uri": "https://localhost:8080/"
        },
        "id": "GdkO2LcpJ6kh",
        "outputId": "0cf7b4da-d18e-4d03-c2af-c0bd5f78d3b5"
      },
      "execution_count": 38,
      "outputs": [
        {
          "output_type": "stream",
          "name": "stdout",
          "text": [
            "Z_th_pos: 0.09281224152191894 (pu)  90.0 (degrees)\n",
            "Z_th_neg: 0.08073036437246964 (pu)  90.0 (degrees)\n",
            "Z_th_zero: 0.244 (pu)  90.0 (degrees)\n"
          ]
        }
      ]
    },
    {
      "cell_type": "code",
      "source": [
        "#PART 2\n",
        "\n",
        "# For balanced faults, only the positive sequance is considered.\n",
        "vf_pre = 1.02 +0j\n",
        "\n",
        "I0_2 = 0\n",
        "Ip_2 = vf_pre/Z_th_pos\n",
        "In_2 = 0\n",
        "\n",
        "#Sequence currents\n",
        "I_seq_2 = np.array([[I0_2],\n",
        "                  [Ip_2],\n",
        "                  [In_2]])\n",
        "\n",
        "#Fault currents\n",
        "If_ph_2 = np.dot(T, I_seq_2)\n",
        "\n",
        "print(\"Ia = : \" +str(round(np.abs(If_ph_2[0,0]),d)) + \" (pu) \" +str(round(np.angle(If_ph_2[0,0], deg=True),d)) + \" (degree)\")\n",
        "print(\"Ib = : \" +str(round(np.abs(If_ph_2[1,0]),d)) + \" (pu) \" +str(round(np.angle(If_ph_2[1,0], deg=True),d)) + \" (degree)\")\n",
        "print(\"Ic = : \" +str(round(np.abs(If_ph_2[2,0]),d)) + \" (pu) \" +str(round(np.angle(If_ph_2[2,0], deg=True),d)) + \" (degree)\")\n"
      ],
      "metadata": {
        "colab": {
          "base_uri": "https://localhost:8080/"
        },
        "id": "LGelkBEtlCl0",
        "outputId": "ed25341e-f5c1-43dc-8fe8-298eec110da2"
      },
      "execution_count": 25,
      "outputs": [
        {
          "output_type": "stream",
          "name": "stdout",
          "text": [
            "Ia = : 10.989929596292667 (pu) -90.0 (degree)\n",
            "Ib = : 10.989929596292663 (pu) 149.99999999999997 (degree)\n",
            "Ic = : 10.989929596292663 (pu) 29.999999999999993 (degree)\n"
          ]
        }
      ]
    },
    {
      "cell_type": "code",
      "source": [
        "\n",
        "#PART 3\n",
        "\n",
        "#Assume fault occur between phase A and Ground. Therefore, current flows only in phase A. Therefore, Ib=0 and Ic =0\n",
        "Ip_3 = vf_pre/(Z_th_pos+Z_th_neg+Z_th_zero)\n",
        "In_3 = Ip_3\n",
        "I0_3 = Ip_3\n",
        "\n",
        "#Using matrix\n",
        "I_seq_3 = np.array([[I0_3],\n",
        "                    [Ip_3],\n",
        "                    [In_3]])\n",
        "\n",
        "If_ph_3 = np.dot(T, I_seq_3)\n",
        "\n",
        "#Using general formulas\n",
        "Ia = Ip_3 + In_3 + I0_3\n",
        "Ib =0\n",
        "Ic =0\n",
        "\n",
        "print(\"Ia = : \" +str(round(abs(Ia),d)) + \"  \" +str(round(np.angle(Ia, deg=True),d)))\n",
        "print(\"Ib = : \" +str(abs(Ib)) + \"  \" +str(np.angle(Ib, deg=True)))\n",
        "print(\"Ic = : \" +str(abs(Ic)) + \"  \" +str(np.angle(Ic, deg=True)))\n",
        "\n",
        "print(\"................\")\n",
        "\n",
        "print(\"Ia = : \" +str(round(np.abs(If_ph_3[0,0]),d)) + \" (pu) \" +str(round(np.angle(If_ph_3[0,0], deg=True),d)) + \" (degree)\")\n",
        "print(\"Ib = : \" +str(round(np.abs(If_ph_3[1,0]),d)) + \" (pu) \" +str(round(np.angle(If_ph_3[1,0], deg=True),d)) + \" (degree)\")\n",
        "print(\"Ic = : \" +str(round(np.abs(If_ph_3[2,0]),d)) + \" (pu) \" +str(round(np.angle(If_ph_3[2,0], deg=True),d)) + \" (degree)\")\n"
      ],
      "metadata": {
        "colab": {
          "base_uri": "https://localhost:8080/"
        },
        "id": "P3kb7QyRDB9_",
        "outputId": "e3bd4f1f-3d27-42cc-fa31-63460c504d45"
      },
      "execution_count": 26,
      "outputs": [
        {
          "output_type": "stream",
          "name": "stdout",
          "text": [
            "Ia = : 7.328593434064986  -90.0\n",
            "Ib = : 0  0.0\n",
            "Ic = : 0  0.0\n",
            "................\n",
            "Ia = : 7.328593434064986 (pu) -90.0 (degree)\n",
            "Ib = : 1e-15 (pu) 36.86989764584401 (degree)\n",
            "Ic = : 1e-15 (pu) 36.86989764584401 (degree)\n"
          ]
        }
      ]
    },
    {
      "cell_type": "code",
      "source": [
        "#PART 4\n",
        "\n",
        "Ip_4 = vf_pre/(Z_th_pos+Z_th_neg)\n",
        "\n",
        "In_4 = -Ip_4\n",
        "I0_4 = 0\n",
        "\n",
        "I_seq_4 = np.array([[I0_4],\n",
        "                    [Ip_4],\n",
        "                    [In_4]])\n",
        "\n",
        "If_ph_4 = np.dot(T, I_seq_4)\n",
        "\n",
        "print(\"Ia = : \" +str(round(np.abs(If_ph_4[0,0]),d)) + \" (pu) \" +str(round(np.angle(If_ph_4[0,0], deg=True),d)) + \" (degree)\")\n",
        "print(\"Ib = : \" +str(round(np.abs(If_ph_4[1,0]),d)) + \" (pu) \" +str(round(np.angle(If_ph_4[1,0], deg=True),d)) + \" (degree)\")\n",
        "print(\"Ic = : \" +str(round(np.abs(If_ph_4[2,0]),d)) + \" (pu) \" +str(round(np.angle(If_ph_4[2,0], deg=True),d)) + \" (degree)\")\n",
        "\n",
        "print(I_seq_4 )"
      ],
      "metadata": {
        "colab": {
          "base_uri": "https://localhost:8080/"
        },
        "id": "aq19rubZbQik",
        "outputId": "55cb1ba8-ac4f-4132-91e1-5f66ad2a8b49"
      },
      "execution_count": 40,
      "outputs": [
        {
          "output_type": "stream",
          "name": "stdout",
          "text": [
            "Ia = : 0.0 (pu) 0.0 (degree)\n",
            "Ib = : 10.180161895202819 (pu) 179.99999999999997 (degree)\n",
            "Ic = : 10.180161895202819 (pu) -2.249472e-14 (degree)\n",
            "[[ 0.+0.j        ]\n",
            " [ 0.-5.87751921j]\n",
            " [-0.+5.87751921j]]\n"
          ]
        }
      ]
    },
    {
      "cell_type": "code",
      "source": [
        "#PART 5\n",
        "\n",
        "#Assume fault is between phase B and C and ground. Then VB = VC = 0, IA = 0 and IB+IC = IF, Vp = Vn = V0\n",
        "\n",
        "Ip_5 = vf_pre/(Z_th_pos + z_p(Z_th_neg,Z_th_zero))\n",
        "Vp = z_p(Z_th_neg,Z_th_zero)*Ip_5\n",
        "\n",
        "In_5 = -(Vp/Z_th_neg)\n",
        "I0_5 = -(Vp/Z_th_zero)\n",
        "\n",
        "I_seq_5 = np.array([[I0_5],\n",
        "                    [Ip_5],\n",
        "                    [In_5]])\n",
        "If_ph_5 = np.dot(T, I_seq_5)\n",
        "\n",
        "\n",
        "print(\"Ia = : \" +str(round(np.abs(If_ph_5[0,0]),d)) + \" (pu) \" +str(round(np.angle(If_ph_5[0,0], deg=True),d)) + \" (degree)\")\n",
        "print(\"Ib = : \" +str(round(np.abs(If_ph_5[1,0]),d)) + \" (pu) \" +str(round(np.angle(If_ph_5[1,0], deg=True),d)) + \" (degree)\")\n",
        "print(\"Ic = : \" +str(round(np.abs(If_ph_5[2,0]),d)) + \" (pu) \" +str(round(np.angle(If_ph_5[2,0], deg=True),d)) + \" (degree)\")\n",
        "\n",
        "print(z_p(Z_th_neg,Z_th_zero))\n"
      ],
      "metadata": {
        "colab": {
          "base_uri": "https://localhost:8080/"
        },
        "id": "ho3xoV8YWbwd",
        "outputId": "8ac214ff-203c-43c9-e47e-0021f0e88029"
      },
      "execution_count": 39,
      "outputs": [
        {
          "output_type": "stream",
          "name": "stdout",
          "text": [
            "Ia = : 0.0 (pu) 0.0 (degree)\n",
            "Ib = : 10.380747185118935 (pu) 166.18712508787044 (degree)\n",
            "Ic = : 10.380747185118933 (pu) 13.812874912129514 (degree)\n",
            "(-0+0.06066020017853492j)\n"
          ]
        }
      ]
    },
    {
      "cell_type": "code",
      "source": [
        "#PART 6 - Normal method\n",
        "\n",
        "vp_l_g = vf_pre-Z_th_pos*(Ip_3)\n",
        "vn_l_g = -Z_th_neg*(Ip_3)\n",
        "v0_l_g = -Z_th_zero*(Ip_3)\n",
        "\n",
        "V_seq_l_g = np.array([[v0_l_g],\n",
        "                      [vp_l_g],\n",
        "                      [vn_l_g]])\n",
        "\n",
        "Vf_ph_l_g = np.dot(T, V_seq_l_g)\n",
        "\n",
        "\n",
        "print(\"Va = : \" +str(round(np.abs(Vf_ph_l_g[0,0]),d)) + \" (pu) \" +str(round(np.angle(Vf_ph_l_g[0,0], deg=True),d)) + \" (degree)\")\n",
        "print(\"Vb = : \" +str(round(np.abs(Vf_ph_l_g[1,0]),d)) + \" (pu) \" +str(round(np.angle(Vf_ph_l_g[1,0], deg=True),d)) + \" (degree)\")\n",
        "print(\"Vc = : \" +str(round(np.abs(Vf_ph_l_g[2,0]),d)) + \" (pu) \" +str(round(np.angle(Vf_ph_l_g[2,0], deg=True),d)) + \" (degree)\")\n"
      ],
      "metadata": {
        "colab": {
          "base_uri": "https://localhost:8080/"
        },
        "id": "1yRnKBtchsMK",
        "outputId": "bfb2f538-b6f9-4d0e-b8fe-5d602c67296d"
      },
      "execution_count": 29,
      "outputs": [
        {
          "output_type": "stream",
          "name": "stdout",
          "text": [
            "Va = : 0.0 (pu) 180.0 (degree)\n",
            "Vb = : 1.239027996077928 (pu) -136.1871250878705 (degree)\n",
            "Vc = : 1.239027996077928 (pu) 136.18712508787047 (degree)\n"
          ]
        }
      ]
    },
    {
      "cell_type": "code",
      "source": [
        "#PART 6 - Matrix Method\n",
        "\n",
        "VF = np.array([[0],[vf_pre],[0]])\n",
        "\n",
        "Z = np.array([[Z_th_zero, 0, 0],\n",
        "              [0, Z_th_pos, 0],\n",
        "              [0, 0, Z_th_neg]])\n",
        "\n",
        "I_seq_6 = np.array([[I0_3],[Ip_3],[In_3]])\n",
        "\n",
        "v_seq_6 = VF - np.dot(Z,I_seq_6)\n",
        "\n",
        "Vf_ph_l_g2 = np.dot(T,v_seq_6)\n",
        "\n",
        "\n",
        "print(\"Va = : \" +str(round(np.abs(Vf_ph_l_g2[0,0]),d)) + \" (pu) \" +str(round(np.angle(Vf_ph_l_g2[0,0], deg=True),d)) + \" (degree)\")\n",
        "print(\"Vb = : \" +str(round(np.abs(Vf_ph_l_g2[1,0]),d)) + \" (pu) \" +str(round(np.angle(Vf_ph_l_g2[1,0], deg=True),d)) + \" (degree)\")\n",
        "print(\"Vc = : \" +str(round(np.abs(Vf_ph_l_g2[2,0]),d)) + \" (pu) \" +str(round(np.angle(Vf_ph_l_g2[2,0], deg=True),d)) + \" (degree)\")\n"
      ],
      "metadata": {
        "colab": {
          "base_uri": "https://localhost:8080/"
        },
        "id": "SubPVL2h-OMP",
        "outputId": "8bb290be-0012-4235-abf7-9b48044bc33d"
      },
      "execution_count": 30,
      "outputs": [
        {
          "output_type": "stream",
          "name": "stdout",
          "text": [
            "Va = : 0.0 (pu) 180.0 (degree)\n",
            "Vb = : 1.239027996077928 (pu) -136.1871250878705 (degree)\n",
            "Vc = : 1.239027996077928 (pu) 136.18712508787047 (degree)\n"
          ]
        }
      ]
    },
    {
      "cell_type": "code",
      "source": [
        "#PART 7\n",
        "Z = np.array([[Z_th_zero, 0, 0],\n",
        "              [0, Z_th_pos, 0],\n",
        "              [0, 0, Z_th_neg]])\n",
        "\n",
        "I_seq_7 = np.array([[I0_4],[Ip_4],[In_4]])\n",
        "\n",
        "v_seq_7 = VF - np.dot(Z,I_seq_7)\n",
        "\n",
        "Vf_ph_l_l = np.dot(T,v_seq_7)\n",
        "\n",
        "print(\"Va = : \" +str(round(np.abs(Vf_ph_l_l[0,0]),d)) + \" (pu) \" +str(round(np.angle(Vf_ph_l_l[0,0], deg=True),d)) + \" (degree)\")\n",
        "print(\"Vb = : \" +str(round(np.abs(Vf_ph_l_l[1,0]),d)) + \" (pu) \" +str(round(np.angle(Vf_ph_l_l[1,0], deg=True),d)) + \" (degree)\")\n",
        "print(\"Vc = : \" +str(round(np.abs(Vf_ph_l_l[2,0]),d)) + \" (pu) \" +str(round(np.angle(Vf_ph_l_l[2,0], deg=True),d)) + \" (degree)\")"
      ],
      "metadata": {
        "colab": {
          "base_uri": "https://localhost:8080/"
        },
        "id": "sCuU8bBcALIz",
        "outputId": "1d4adb3f-30e8-4a25-ebf9-5772d4c3544c"
      },
      "execution_count": 31,
      "outputs": [
        {
          "output_type": "stream",
          "name": "stdout",
          "text": [
            "Va = : 0.948988534954132 (pu) 0.0 (degree)\n",
            "Vb = : 0.474494267477066 (pu) 179.99999999999997 (degree)\n",
            "Vc = : 0.474494267477066 (pu) 179.99999999999997 (degree)\n"
          ]
        }
      ]
    },
    {
      "cell_type": "code",
      "source": [
        "#PART 8\n",
        "#!!!!!!!! Vb and Vc angles should be zero\n",
        "Z = np.array([[Z_th_zero, 0, 0],\n",
        "              [0, Z_th_pos, 0],\n",
        "              [0, 0, Z_th_neg]])\n",
        "\n",
        "I_seq_8 = np.array([[I0_5],[Ip_5],[In_5]])\n",
        "\n",
        "v_seq_8 = VF - np.dot(Z,I_seq_8)\n",
        "\n",
        "Vf_ph_l_l_g = np.dot(T,v_seq_8)\n",
        "\n",
        "print(\"Va = : \" +str(round(np.abs(Vf_ph_l_l_g[0,0]),d)) + \" (pu) \" +str(round(np.angle(Vf_ph_l_l_g[0,0], deg=True),d)) + \" (degree)\")\n",
        "print(\"Vb = : \" +str(round(np.abs(Vf_ph_l_l_g[1,0]),d)) + \" (pu) \" +str(round(np.angle(Vf_ph_l_l_g[1,0], deg=True),d)) + \" (degree)\")\n",
        "print(\"Vc = : \" +str(round(np.abs(Vf_ph_l_l_g[2,0]),d)) + \" (pu) \" +str(round(np.angle(Vf_ph_l_l_g[2,0], deg=True),d)) + \" (degree)\")"
      ],
      "metadata": {
        "colab": {
          "base_uri": "https://localhost:8080/"
        },
        "id": "-SHT4fCZG7Ro",
        "outputId": "568b04e6-16e4-49b1-8ca9-376124f4503e"
      },
      "execution_count": 32,
      "outputs": [
        {
          "output_type": "stream",
          "name": "stdout",
          "text": [
            "Va = : 1.209469338531857 (pu) 0.0 (degree)\n",
            "Vb = : 0.0 (pu) 116.56505117707799 (degree)\n",
            "Vc = : 0.0 (pu) 116.56505117707799 (degree)\n"
          ]
        }
      ]
    },
    {
      "cell_type": "code",
      "source": [
        "#PART 9\n",
        "\n",
        "Im = Ip_2*(xp2)/(xp1+xp2)\n",
        "\n",
        "vd_f = vf_pre-Im*(pos_seq[\"xm\"]+pos_seq[\"xtf3\"])\n",
        "\n",
        "vd_seq = np.array([[0],[vd_f],[0]])\n",
        "\n",
        "vd_ph = np.dot(T,vd_seq)\n",
        "\n",
        "print(\"Va = : \" +str(round(np.abs(vd_ph[0,0]),d)) + \" (pu) \" +str(round(np.angle(vd_ph[0,0], deg=True),d)) + \" (degree)\")\n",
        "print(\"Vb = : \" +str(round(np.abs(vd_ph[1,0]),d)) + \" (pu) \" +str(round(np.angle(vd_ph[1,0], deg=True),d)) + \" (degree)\")\n",
        "print(\"Vc = : \" +str(round(np.abs(vd_ph[2,0]),d)) + \" (pu) \" +str(round(np.angle(vd_ph[2,0], deg=True),d)) + \" (degree)\")\n",
        "\n",
        "print(Ip_2, xp2, xp1+xp2)\n",
        "print(Im)"
      ],
      "metadata": {
        "colab": {
          "base_uri": "https://localhost:8080/"
        },
        "id": "58U7a2RtNOVT",
        "outputId": "63bd74fc-db01-4527-b341-968aad1e9a63"
      },
      "execution_count": 42,
      "outputs": [
        {
          "output_type": "stream",
          "name": "stdout",
          "text": [
            "Va = : 0.33722448979591846 (pu) 0.0 (degree)\n",
            "Vb = : 0.33722448979591846 (pu) -120.00000000000004 (degree)\n",
            "Vc = : 0.3372244897959184 (pu) 119.99999999999999 (degree)\n",
            "-10.989929596292665j (-0+0.11449999999999999j) 0.6045j\n",
            "-2.081632653061224j\n"
          ]
        }
      ]
    },
    {
      "cell_type": "code",
      "source": [
        "#PART 10\n",
        "\n",
        "v0_10 = v_seq_6[0,0]\n",
        "vp_10 = v_seq_6[1,0]\n",
        "vn_10 = v_seq_6[2,0]\n",
        "\n",
        "Ig_p_10 = (vf_pre-vp_10)/(pos_seq[\"xm\"]+pos_seq[\"xtf3\"]+pos_seq[\"xt\"])\n",
        "\n",
        "vd_p_10 = vf_pre - Ig_p_10*(pos_seq[\"xm\"]+pos_seq[\"xtf3\"])\n",
        "\n",
        "vd_n_10 = vn_10*((neg_seq[\"xm\"]+neg_seq[\"xtf3\"])/(neg_seq[\"xm\"]+neg_seq[\"xtf3\"]+neg_seq[\"xt\"]))\n",
        "\n",
        "vd_0_10 = v0_10\n",
        "\n",
        "vd_seq_10 = np.array([[vd_0_10],[vd_p_10],[vd_n_10]])\n",
        "\n",
        "vd_10 = np.dot(T,vd_seq_10)\n",
        "\n",
        "print(\"Va = : \" +str(round(np.abs(vd_10[0,0]),d)) + \" (pu) \" +str(round(np.angle(vd_10[0,0], deg=True),d)) + \" (degree)\")\n",
        "print(\"Vb = : \" +str(round(np.abs(vd_10[1,0]),d)) + \" (pu) \" +str(round(np.angle(vd_10[1,0], deg=True),d)) + \" (degree)\")\n",
        "print(\"Vc = : \" +str(round(np.abs(vd_10[2,0]),d)) + \" (pu) \" +str(round(np.angle(vd_10[2,0], deg=True),d)) + \" (degree)\")\n"
      ],
      "metadata": {
        "colab": {
          "base_uri": "https://localhost:8080/"
        },
        "id": "sTFNT9z92xmR",
        "outputId": "cfe54f46-a06a-44e8-8827-346fba8bcc52"
      },
      "execution_count": 34,
      "outputs": [
        {
          "output_type": "stream",
          "name": "stdout",
          "text": [
            "Va = : 0.136163102935689 (pu) 0.0 (degree)\n",
            "Vb = : 1.296975385899825 (pu) -137.8898236691076 (degree)\n",
            "Vc = : 1.296975385899825 (pu) 137.88982366910759 (degree)\n"
          ]
        }
      ]
    },
    {
      "cell_type": "code",
      "source": [
        "#PART 11\n",
        "\n",
        "v0_11 = v_seq_7[0,0]\n",
        "vp_11 = v_seq_7[1,0]\n",
        "vn_11 = v_seq_7[2,0]\n",
        "\n",
        "Ig_p_11 = (vf_pre-vp_11)/(pos_seq[\"xm\"]+pos_seq[\"xtf3\"]+pos_seq[\"xt\"])\n",
        "\n",
        "vd_p_11 = vf_pre - Ig_p_11*(pos_seq[\"xm\"]+pos_seq[\"xtf3\"])\n",
        "\n",
        "vd_n_11 = vn_11*((neg_seq[\"xm\"]+neg_seq[\"xtf3\"])/(neg_seq[\"xm\"]+neg_seq[\"xtf3\"]+neg_seq[\"xt\"]))\n",
        "\n",
        "vd_0_11 = v0_11\n",
        "\n",
        "vd_seq_11 = np.array([[vd_0_11],[vd_p_11],[vd_n_11]])\n",
        "\n",
        "vd_11 = np.dot(T,vd_seq_11)\n",
        "\n",
        "print(\"Va = : \" +str(round(np.abs(vd_11[0,0]),d)) + \" (pu) \" +str(round(np.angle(vd_11[0,0], deg=True),d)) + \" (degree)\")\n",
        "print(\"Vb = : \" +str(round(np.abs(vd_11[1,0]),d)) + \" (pu) \" +str(round(np.angle(vd_11[1,0], deg=True),d)) + \" (degree)\")\n",
        "print(\"Vc = : \" +str(round(np.abs(vd_11[2,0]),d)) + \" (pu) \" +str(round(np.angle(vd_11[2,0], deg=True),d)) + \" (degree)\")"
      ],
      "metadata": {
        "colab": {
          "base_uri": "https://localhost:8080/"
        },
        "id": "lzePd5pm_V13",
        "outputId": "b80b329b-b2e6-4e09-a53b-0210f4147933"
      },
      "execution_count": 35,
      "outputs": [
        {
          "output_type": "stream",
          "name": "stdout",
          "text": [
            "Va = : 0.982082568157431 (pu) 0.0 (degree)\n",
            "Vb = : 0.567112559008524 (pu) -149.98129463923595 (degree)\n",
            "Vc = : 0.567112559008524 (pu) 149.9812946392359 (degree)\n"
          ]
        }
      ]
    },
    {
      "cell_type": "code",
      "source": [
        "#PART 12\n",
        "\n",
        "v0_12 = v_seq_8[0,0]\n",
        "vp_12 = v_seq_8[1,0]\n",
        "vn_12 = v_seq_8[2,0]\n",
        "\n",
        "Ig_p_12 = (vf_pre-vp_12)/(pos_seq[\"xm\"]+pos_seq[\"xtf3\"]+pos_seq[\"xt\"])\n",
        "\n",
        "vd_p_12 = vf_pre - Ig_p_12*(pos_seq[\"xm\"]+pos_seq[\"xtf3\"])\n",
        "\n",
        "vd_n_12 = vn_12*((neg_seq[\"xm\"]+neg_seq[\"xtf3\"])/(neg_seq[\"xm\"]+neg_seq[\"xtf3\"]+neg_seq[\"xt\"]))\n",
        "\n",
        "vd_0_12 = v0_12\n",
        "\n",
        "vd_seq_12 = np.array([[vd_0_12],[vd_p_12],[vd_n_12]])\n",
        "\n",
        "vd_12 = np.dot(T,vd_seq_12)\n",
        "\n",
        "print(\"Va = : \" +str(round(np.abs(vd_12[0,0]),d)) + \" (pu) \" +str(round(np.angle(vd_12[0,0], deg=True),d)) + \" (degree)\")\n",
        "print(\"Vb = : \" +str(round(np.abs(vd_12[1,0]),d)) + \" (pu) \" +str(round(np.angle(vd_12[1,0], deg=True),d)) + \" (degree)\")\n",
        "print(\"Vc = : \" +str(round(np.abs(vd_12[2,0]),d)) + \" (pu) \" +str(round(np.angle(vd_12[2,0], deg=True),d)) + \" (degree)\")"
      ],
      "metadata": {
        "colab": {
          "base_uri": "https://localhost:8080/"
        },
        "id": "Xri-Od4MDsQB",
        "outputId": "0e48223f-75c0-4c55-aa91-f54e9041eb99"
      },
      "execution_count": 36,
      "outputs": [
        {
          "output_type": "stream",
          "name": "stdout",
          "text": [
            "Va = : 1.288287852832862 (pu) 0.0 (degree)\n",
            "Vb = : 0.287680844957428 (pu) -97.87367922062793 (degree)\n",
            "Vc = : 0.287680844957428 (pu) 97.87367922062789 (degree)\n"
          ]
        }
      ]
    }
  ]
}